{
 "cells": [
  {
   "cell_type": "markdown",
   "metadata": {},
   "source": [
    "###  ---------------------------------------------------------------------------------------------------------------------------------------\n",
    "##### Copyright (c) Rajdeep Biswas\n",
    "##### Licensed under the MIT license.\n",
    "###### File: stock_prediction_REST.ipynb\n",
    "###### Date: 09/26/2021\n",
    "###  ---------------------------------------------------------------------------------------------------------------------------------------"
   ]
  },
  {
   "cell_type": "code",
   "execution_count": 2,
   "metadata": {},
   "outputs": [],
   "source": [
    "#Import required Libraries\n",
    "import pandas as pd # data processing, CSV file I/O (e.g. pd.read_csv)\n",
    "import pandas_datareader.data as web\n",
    "import datetime as dt"
   ]
  },
  {
   "cell_type": "code",
   "execution_count": 47,
   "metadata": {},
   "outputs": [],
   "source": [
    "# %load ./credential.py"
   ]
  },
  {
   "cell_type": "code",
   "execution_count": 13,
   "metadata": {},
   "outputs": [
    {
     "data": {
      "text/html": [
       "<div>\n",
       "<style scoped>\n",
       "    .dataframe tbody tr th:only-of-type {\n",
       "        vertical-align: middle;\n",
       "    }\n",
       "\n",
       "    .dataframe tbody tr th {\n",
       "        vertical-align: top;\n",
       "    }\n",
       "\n",
       "    .dataframe thead th {\n",
       "        text-align: right;\n",
       "    }\n",
       "</style>\n",
       "<table border=\"1\" class=\"dataframe\">\n",
       "  <thead>\n",
       "    <tr style=\"text-align: right;\">\n",
       "      <th></th>\n",
       "      <th>Date_t_plus_1</th>\n",
       "      <th>High</th>\n",
       "      <th>Low</th>\n",
       "      <th>Open</th>\n",
       "      <th>Volume</th>\n",
       "      <th>ma20</th>\n",
       "      <th>ema</th>\n",
       "      <th>Close_t_plus_1</th>\n",
       "    </tr>\n",
       "    <tr>\n",
       "      <th>Date</th>\n",
       "      <th></th>\n",
       "      <th></th>\n",
       "      <th></th>\n",
       "      <th></th>\n",
       "      <th></th>\n",
       "      <th></th>\n",
       "      <th></th>\n",
       "      <th></th>\n",
       "    </tr>\n",
       "  </thead>\n",
       "  <tbody>\n",
       "    <tr>\n",
       "      <th>2021-09-20</th>\n",
       "      <td>2021-09-21</td>\n",
       "      <td>361.029999</td>\n",
       "      <td>349.799988</td>\n",
       "      <td>359.299988</td>\n",
       "      <td>19822800</td>\n",
       "      <td>373.238504</td>\n",
       "      <td>370.995910</td>\n",
       "      <td>357.480011</td>\n",
       "    </tr>\n",
       "    <tr>\n",
       "      <th>2021-09-21</th>\n",
       "      <td>2021-09-22</td>\n",
       "      <td>360.040009</td>\n",
       "      <td>355.190002</td>\n",
       "      <td>358.500000</td>\n",
       "      <td>11751900</td>\n",
       "      <td>372.945004</td>\n",
       "      <td>369.193790</td>\n",
       "      <td>343.209991</td>\n",
       "    </tr>\n",
       "    <tr>\n",
       "      <th>2021-09-22</th>\n",
       "      <td>2021-09-23</td>\n",
       "      <td>349.839996</td>\n",
       "      <td>340.690002</td>\n",
       "      <td>347.230011</td>\n",
       "      <td>43692900</td>\n",
       "      <td>371.830003</td>\n",
       "      <td>365.729283</td>\n",
       "      <td>345.959991</td>\n",
       "    </tr>\n",
       "    <tr>\n",
       "      <th>2021-09-23</th>\n",
       "      <td>2021-09-24</td>\n",
       "      <td>349.670013</td>\n",
       "      <td>343.000000</td>\n",
       "      <td>345.359985</td>\n",
       "      <td>21806300</td>\n",
       "      <td>370.708502</td>\n",
       "      <td>363.093378</td>\n",
       "      <td>352.959991</td>\n",
       "    </tr>\n",
       "    <tr>\n",
       "      <th>2021-09-24</th>\n",
       "      <td>2021-09-25</td>\n",
       "      <td>354.350006</td>\n",
       "      <td>342.369995</td>\n",
       "      <td>343.239990</td>\n",
       "      <td>18783900</td>\n",
       "      <td>370.137502</td>\n",
       "      <td>361.742260</td>\n",
       "      <td>NaN</td>\n",
       "    </tr>\n",
       "  </tbody>\n",
       "</table>\n",
       "</div>"
      ],
      "text/plain": [
       "           Date_t_plus_1        High         Low        Open    Volume  \\\n",
       "Date                                                                     \n",
       "2021-09-20    2021-09-21  361.029999  349.799988  359.299988  19822800   \n",
       "2021-09-21    2021-09-22  360.040009  355.190002  358.500000  11751900   \n",
       "2021-09-22    2021-09-23  349.839996  340.690002  347.230011  43692900   \n",
       "2021-09-23    2021-09-24  349.670013  343.000000  345.359985  21806300   \n",
       "2021-09-24    2021-09-25  354.350006  342.369995  343.239990  18783900   \n",
       "\n",
       "                  ma20         ema  Close_t_plus_1  \n",
       "Date                                                \n",
       "2021-09-20  373.238504  370.995910      357.480011  \n",
       "2021-09-21  372.945004  369.193790      343.209991  \n",
       "2021-09-22  371.830003  365.729283      345.959991  \n",
       "2021-09-23  370.708502  363.093378      352.959991  \n",
       "2021-09-24  370.137502  361.742260             NaN  "
      ]
     },
     "execution_count": 13,
     "metadata": {},
     "output_type": "execute_result"
    }
   ],
   "source": [
    "df_fb_daily_ticker_adbridged.tail()"
   ]
  },
  {
   "cell_type": "code",
   "execution_count": 49,
   "metadata": {},
   "outputs": [
    {
     "name": "stdout",
     "output_type": "stream",
     "text": [
      "b'\"{\\\\\"forecast\\\\\": [348.37057131108423], \\\\\"index\\\\\": [{\\\\\"Date_t_plus_1\\\\\": 1632441600000, \\\\\"_automl_dummy_grain_col\\\\\": \\\\\"_automl_dummy_grain_col\\\\\"}]}\"'\n"
     ]
    }
   ],
   "source": [
    "import urllib.request\n",
    "import json\n",
    "import os\n",
    "import ssl\n",
    "\n",
    "def allowSelfSignedHttps(allowed):\n",
    "    # bypass the server certificate verification on client side\n",
    "    if allowed and not os.environ.get('PYTHONHTTPSVERIFY', '') and getattr(ssl, '_create_unverified_context', None):\n",
    "        ssl._create_default_https_context = ssl._create_unverified_context\n",
    "\n",
    "allowSelfSignedHttps(True) # this line is needed if you use self-signed certificate in your scoring service.\n",
    "\n",
    "# Request data goes here\n",
    "data = {\n",
    "    \"data\":\n",
    "    [\n",
    "        {\n",
    "            'Date_t_plus_1': \"2021-09-24\",\n",
    "            'High': \"349.670013\",\n",
    "            'Low': \"343.000000\",\n",
    "            'Open': \"345.359985\",\n",
    "            'Volume': \"21806300\",\n",
    "            'ma20': \"370.708502\",\n",
    "            'ema': \"363.093378\",\n",
    "        },\n",
    "    ],\n",
    "}\n",
    "\n",
    "body = str.encode(json.dumps(data))\n",
    "\n",
    "identifier = login['identifier']\n",
    "url = 'http://'+ identifier + '.eastus2.azurecontainer.io/score'\n",
    "\n",
    "\n",
    "# Replace this with the API key for the web service\n",
    "api_key = login['api_key']\n",
    "headers = {'Content-Type':'application/json', 'Authorization':('Bearer '+ api_key)}\n",
    "\n",
    "req = urllib.request.Request(url, body, headers)\n",
    "\n",
    "try:\n",
    "    response = urllib.request.urlopen(req)\n",
    "\n",
    "    result = response.read()\n",
    "    print(result)\n",
    "except urllib.error.HTTPError as error:\n",
    "    print(\"The request failed with status code: \" + str(error.code))\n",
    "\n",
    "    # Print the headers - they include the requert ID and the timestamp, which are useful for debugging the failure\n",
    "    print(error.info())\n",
    "    print(json.loads(error.read().decode(\"utf8\", 'ignore')))"
   ]
  },
  {
   "cell_type": "code",
   "execution_count": null,
   "metadata": {},
   "outputs": [],
   "source": []
  }
 ],
 "metadata": {
  "kernel_info": {
   "name": "python3-azureml"
  },
  "kernelspec": {
   "display_name": "Python 3.6 - AzureML",
   "language": "python",
   "name": "python3-azureml"
  },
  "language_info": {
   "codemirror_mode": {
    "name": "ipython",
    "version": 3
   },
   "file_extension": ".py",
   "mimetype": "text/x-python",
   "name": "python",
   "nbconvert_exporter": "python",
   "pygments_lexer": "ipython3",
   "version": "3.6.9"
  },
  "nteract": {
   "version": "nteract-front-end@1.0.0"
  }
 },
 "nbformat": 4,
 "nbformat_minor": 2
}
