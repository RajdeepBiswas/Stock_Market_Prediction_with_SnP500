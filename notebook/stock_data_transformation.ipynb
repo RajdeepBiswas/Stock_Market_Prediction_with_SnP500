{
 "cells": [
  {
   "cell_type": "markdown",
   "metadata": {},
   "source": [
    "###  ---------------------------------------------------------------------------------------------------------------------------------------\n",
    "##### Copyright (c) Rajdeep Biswas\n",
    "##### Licensed under the MIT license.\n",
    "###### File: get_stock_data.ipynb\n",
    "###### Date: 09/12/2021\n",
    "###  ---------------------------------------------------------------------------------------------------------------------------------------"
   ]
  },
  {
   "cell_type": "markdown",
   "metadata": {},
   "source": [
    "### Table of Contents\n",
    "\n",
    "* [Initial Configurations](#IC)\n",
    "    * [Import Libraries](#IL)\n",
    "    * [Autheticate the AML Workspace](#AML)\n",
    "* [Transform Data (Silver)](#TSD)\n",
    "    * [Setup Directory Structure](#SD)\n",
    "    * [Merge Daily Stock Data](#DD)\n",
    "    * [Merge Historical Stock Dividend Data](#HD)\n",
    "    * [Merge Historical Stock Split Data](#SS)\n",
    "    * [Copy Stock Financial Data](#SFD)      "
   ]
  },
  {
   "cell_type": "markdown",
   "metadata": {},
   "source": [
    "### Initial Configurations <a class=\"anchor\" id=\"IC\"></a>"
   ]
  },
  {
   "cell_type": "markdown",
   "metadata": {},
   "source": [
    "#### Import Libraries <a class=\"anchor\" id=\"IL\"></a>"
   ]
  },
  {
   "cell_type": "code",
   "execution_count": 1,
   "metadata": {},
   "outputs": [],
   "source": [
    "#Import required Libraries\n",
    "import os\n",
    "\n",
    "import numpy as np # linear algebra\n",
    "import pandas as pd # data processing, CSV file I/O (e.g. pd.read_csv)\n",
    "import seaborn as sns\n",
    "import matplotlib.pyplot as plt\n",
    "from matplotlib.image import imread\n",
    "import cv2\n",
    "%matplotlib inline\n",
    "\n",
    "import warnings\n",
    "warnings.filterwarnings(\"ignore\")\n",
    "\n",
    "#pip install pandas_datareader\n",
    "import pandas_datareader.data as web\n",
    "import pandas as pd\n",
    "import datetime as dt\n",
    "\n",
    "import azureml.core\n",
    "import azureml.automl\n",
    "from azureml.core import Workspace, Dataset, Datastore"
   ]
  },
  {
   "cell_type": "markdown",
   "metadata": {},
   "source": [
    "#### Autheticate the AML Workspace <a class=\"anchor\" id=\"AML\"></a>"
   ]
  },
  {
   "cell_type": "code",
   "execution_count": 3,
   "metadata": {},
   "outputs": [
    {
     "name": "stdout",
     "output_type": "stream",
     "text": [
      "Ready to use Azure ML 1.33.0 to work with houston-techsummit-workspace\n"
     ]
    }
   ],
   "source": [
    "import azureml.core\n",
    "from azureml.core import Workspace\n",
    "\n",
    "# Load the workspace from the saved config file\n",
    "ws = Workspace.from_config()\n",
    "print('Ready to use Azure ML {} to work with {}'.format(azureml.core.VERSION, ws.name))"
   ]
  },
  {
   "cell_type": "markdown",
   "metadata": {},
   "source": [
    "### Transform Data (Silver) <a class=\"anchor\" id=\"TSD\"></a>\n",
    "- Raw data extraction for the file, API based and web datasets. Let us call this __Bronze Layer__.\n",
    "- Data transformation using python from Raw to Processed stage. We will call this __Silver Layer__.\n",
    "- Finally store the processed data using standard taxonomy in a SQL based serving layer. We will call this __Gold Layer__."
   ]
  },
  {
   "cell_type": "markdown",
   "metadata": {},
   "source": [
    "#### Setup Directory Structure <a class=\"anchor\" id=\"SD\"></a>"
   ]
  },
  {
   "cell_type": "code",
   "execution_count": 5,
   "metadata": {},
   "outputs": [],
   "source": [
    "data_folder = os.path.join(os.getcwd(), 'data')\n",
    "\n",
    "#Create the data directory\n",
    "os.makedirs(data_folder, exist_ok=True)\n",
    "\n",
    "#Create the bronze, silver and gold folders\n",
    "bronze_data_folder = data_folder +\"/bronze\"\n",
    "os.makedirs(bronze_data_folder, exist_ok=True)\n",
    "\n",
    "silver_data_folder = data_folder +\"/silver\"\n",
    "os.makedirs(silver_data_folder, exist_ok=True)\n",
    "\n",
    "gold_data_folder = data_folder +\"/gold\"\n",
    "os.makedirs(gold_data_folder, exist_ok=True)\n",
    "\n",
    "#Create sub folder for stock daily close data\n",
    "file_data_bronze = bronze_data_folder +\"/snp500\"\n",
    "os.makedirs(file_data_bronze, exist_ok=True)\n",
    "\n",
    "#Create sub folder for dividends\n",
    "dividend_data_bronze = bronze_data_folder +\"/snp500_dividends\"\n",
    "os.makedirs(dividend_data_bronze, exist_ok=True)\n",
    "\n",
    "#Create sub folder for splits\n",
    "split_data_bronze = bronze_data_folder +\"/snp500_splits\"\n",
    "os.makedirs(split_data_bronze, exist_ok=True)\n",
    "\n",
    "#Create sub folder for sectors\n",
    "sector_data_bronze = bronze_data_folder +\"/snp500_sectors\"\n",
    "os.makedirs(sector_data_bronze, exist_ok=True)\n",
    "\n",
    "#Create sub folder for financials\n",
    "financial_data_bronze = bronze_data_folder +\"/snp500_financial\"\n",
    "os.makedirs(financial_data_bronze, exist_ok=True)"
   ]
  },
  {
   "cell_type": "markdown",
   "metadata": {},
   "source": [
    "#### Merge Daily Stock Data <a class=\"anchor\" id=\"DD\"></a>"
   ]
  },
  {
   "cell_type": "code",
   "execution_count": 26,
   "metadata": {},
   "outputs": [],
   "source": [
    "import glob\n",
    "all_daily_files_bronze = glob.glob(file_data_bronze + \"/*.csv\")"
   ]
  },
  {
   "cell_type": "code",
   "execution_count": 27,
   "metadata": {},
   "outputs": [],
   "source": [
    "list_content = []\n",
    "\n",
    "for filename in all_daily_files_bronze:\n",
    "    temp_df = pd.read_csv(filename, index_col=None, header=0)\n",
    "    #Extract the stockname from the filename and add it\n",
    "    stock_name = os.path.basename(filename).split('_')[0]\n",
    "    temp_df['Symbol'] = stock_name\n",
    "    list_content.append(temp_df)"
   ]
  },
  {
   "cell_type": "code",
   "execution_count": 28,
   "metadata": {},
   "outputs": [],
   "source": [
    "df_daily_stock_bronze = pd.concat(list_content, axis=0, ignore_index=True)"
   ]
  },
  {
   "cell_type": "code",
   "execution_count": 29,
   "metadata": {},
   "outputs": [
    {
     "name": "stdout",
     "output_type": "stream",
     "text": [
      "<class 'pandas.core.frame.DataFrame'>\n",
      "RangeIndex: 624555 entries, 0 to 624554\n",
      "Data columns (total 8 columns):\n",
      "Date         624555 non-null object\n",
      "High         624555 non-null float64\n",
      "Low          624555 non-null float64\n",
      "Open         624555 non-null float64\n",
      "Close        624555 non-null float64\n",
      "Volume       624555 non-null float64\n",
      "Adj Close    624555 non-null float64\n",
      "Symbol       624555 non-null object\n",
      "dtypes: float64(6), object(2)\n",
      "memory usage: 38.1+ MB\n"
     ]
    }
   ],
   "source": [
    "df_daily_stock_bronze.info()"
   ]
  },
  {
   "cell_type": "code",
   "execution_count": 30,
   "metadata": {},
   "outputs": [
    {
     "data": {
      "text/html": [
       "<div>\n",
       "<style scoped>\n",
       "    .dataframe tbody tr th:only-of-type {\n",
       "        vertical-align: middle;\n",
       "    }\n",
       "\n",
       "    .dataframe tbody tr th {\n",
       "        vertical-align: top;\n",
       "    }\n",
       "\n",
       "    .dataframe thead th {\n",
       "        text-align: right;\n",
       "    }\n",
       "</style>\n",
       "<table border=\"1\" class=\"dataframe\">\n",
       "  <thead>\n",
       "    <tr style=\"text-align: right;\">\n",
       "      <th></th>\n",
       "      <th>Date</th>\n",
       "      <th>High</th>\n",
       "      <th>Low</th>\n",
       "      <th>Open</th>\n",
       "      <th>Close</th>\n",
       "      <th>Volume</th>\n",
       "      <th>Adj Close</th>\n",
       "      <th>Symbol</th>\n",
       "    </tr>\n",
       "  </thead>\n",
       "  <tbody>\n",
       "    <tr>\n",
       "      <th>0</th>\n",
       "      <td>2016-09-01</td>\n",
       "      <td>36.709999</td>\n",
       "      <td>35.880001</td>\n",
       "      <td>36.529999</td>\n",
       "      <td>36.240002</td>\n",
       "      <td>6940600.0</td>\n",
       "      <td>34.931732</td>\n",
       "      <td>AAL</td>\n",
       "    </tr>\n",
       "    <tr>\n",
       "      <th>1</th>\n",
       "      <td>2016-09-02</td>\n",
       "      <td>36.700001</td>\n",
       "      <td>36.000000</td>\n",
       "      <td>36.000000</td>\n",
       "      <td>36.529999</td>\n",
       "      <td>5429100.0</td>\n",
       "      <td>35.211254</td>\n",
       "      <td>AAL</td>\n",
       "    </tr>\n",
       "    <tr>\n",
       "      <th>2</th>\n",
       "      <td>2016-09-06</td>\n",
       "      <td>36.970001</td>\n",
       "      <td>36.360001</td>\n",
       "      <td>36.450001</td>\n",
       "      <td>36.959999</td>\n",
       "      <td>5501700.0</td>\n",
       "      <td>35.625729</td>\n",
       "      <td>AAL</td>\n",
       "    </tr>\n",
       "    <tr>\n",
       "      <th>3</th>\n",
       "      <td>2016-09-07</td>\n",
       "      <td>39.520000</td>\n",
       "      <td>37.419998</td>\n",
       "      <td>37.500000</td>\n",
       "      <td>38.750000</td>\n",
       "      <td>13775000.0</td>\n",
       "      <td>37.351112</td>\n",
       "      <td>AAL</td>\n",
       "    </tr>\n",
       "    <tr>\n",
       "      <th>4</th>\n",
       "      <td>2016-09-08</td>\n",
       "      <td>39.410000</td>\n",
       "      <td>38.430000</td>\n",
       "      <td>38.680000</td>\n",
       "      <td>39.349998</td>\n",
       "      <td>7101500.0</td>\n",
       "      <td>37.929455</td>\n",
       "      <td>AAL</td>\n",
       "    </tr>\n",
       "  </tbody>\n",
       "</table>\n",
       "</div>"
      ],
      "text/plain": [
       "         Date       High        Low       Open      Close      Volume  \\\n",
       "0  2016-09-01  36.709999  35.880001  36.529999  36.240002   6940600.0   \n",
       "1  2016-09-02  36.700001  36.000000  36.000000  36.529999   5429100.0   \n",
       "2  2016-09-06  36.970001  36.360001  36.450001  36.959999   5501700.0   \n",
       "3  2016-09-07  39.520000  37.419998  37.500000  38.750000  13775000.0   \n",
       "4  2016-09-08  39.410000  38.430000  38.680000  39.349998   7101500.0   \n",
       "\n",
       "   Adj Close Symbol  \n",
       "0  34.931732    AAL  \n",
       "1  35.211254    AAL  \n",
       "2  35.625729    AAL  \n",
       "3  37.351112    AAL  \n",
       "4  37.929455    AAL  "
      ]
     },
     "execution_count": 30,
     "metadata": {},
     "output_type": "execute_result"
    }
   ],
   "source": [
    "df_daily_stock_bronze.head()"
   ]
  },
  {
   "cell_type": "code",
   "execution_count": 31,
   "metadata": {},
   "outputs": [
    {
     "data": {
      "text/plain": [
       "Date         0\n",
       "High         0\n",
       "Low          0\n",
       "Open         0\n",
       "Close        0\n",
       "Volume       0\n",
       "Adj Close    0\n",
       "Symbol       0\n",
       "dtype: int64"
      ]
     },
     "execution_count": 31,
     "metadata": {},
     "output_type": "execute_result"
    }
   ],
   "source": [
    "#Let us quickly handle null values\n",
    "df_daily_stock_bronze.isnull().sum()"
   ]
  },
  {
   "cell_type": "markdown",
   "metadata": {},
   "source": [
    "Seems like there is no null values to handle. Cool!!!"
   ]
  },
  {
   "cell_type": "code",
   "execution_count": 35,
   "metadata": {},
   "outputs": [],
   "source": [
    "#Write in silver directory\n",
    "output_file_name = silver_data_folder + '/snp500_daily_ticker.csv'\n",
    "df_daily_stock_bronze.to_csv(output_file_name, index=False)    "
   ]
  },
  {
   "cell_type": "code",
   "execution_count": 36,
   "metadata": {},
   "outputs": [
    {
     "name": "stdout",
     "output_type": "stream",
     "text": [
      "<class 'pandas.core.frame.DataFrame'>\n",
      "RangeIndex: 624555 entries, 0 to 624554\n",
      "Data columns (total 8 columns):\n",
      "Date         624555 non-null object\n",
      "High         624555 non-null float64\n",
      "Low          624555 non-null float64\n",
      "Open         624555 non-null float64\n",
      "Close        624555 non-null float64\n",
      "Volume       624555 non-null float64\n",
      "Adj Close    624555 non-null float64\n",
      "Symbol       624555 non-null object\n",
      "dtypes: float64(6), object(2)\n",
      "memory usage: 38.1+ MB\n"
     ]
    }
   ],
   "source": [
    "df_snp500_daily_ticker = pd.read_csv(output_file_name)\n",
    "df_snp500_daily_ticker.info()"
   ]
  },
  {
   "cell_type": "code",
   "execution_count": 37,
   "metadata": {},
   "outputs": [
    {
     "data": {
      "text/html": [
       "<div>\n",
       "<style scoped>\n",
       "    .dataframe tbody tr th:only-of-type {\n",
       "        vertical-align: middle;\n",
       "    }\n",
       "\n",
       "    .dataframe tbody tr th {\n",
       "        vertical-align: top;\n",
       "    }\n",
       "\n",
       "    .dataframe thead th {\n",
       "        text-align: right;\n",
       "    }\n",
       "</style>\n",
       "<table border=\"1\" class=\"dataframe\">\n",
       "  <thead>\n",
       "    <tr style=\"text-align: right;\">\n",
       "      <th></th>\n",
       "      <th>Date</th>\n",
       "      <th>High</th>\n",
       "      <th>Low</th>\n",
       "      <th>Open</th>\n",
       "      <th>Close</th>\n",
       "      <th>Volume</th>\n",
       "      <th>Adj Close</th>\n",
       "      <th>Symbol</th>\n",
       "    </tr>\n",
       "  </thead>\n",
       "  <tbody>\n",
       "    <tr>\n",
       "      <th>0</th>\n",
       "      <td>2016-09-01</td>\n",
       "      <td>36.709999</td>\n",
       "      <td>35.880001</td>\n",
       "      <td>36.529999</td>\n",
       "      <td>36.240002</td>\n",
       "      <td>6940600.0</td>\n",
       "      <td>34.931732</td>\n",
       "      <td>AAL</td>\n",
       "    </tr>\n",
       "    <tr>\n",
       "      <th>1</th>\n",
       "      <td>2016-09-02</td>\n",
       "      <td>36.700001</td>\n",
       "      <td>36.000000</td>\n",
       "      <td>36.000000</td>\n",
       "      <td>36.529999</td>\n",
       "      <td>5429100.0</td>\n",
       "      <td>35.211254</td>\n",
       "      <td>AAL</td>\n",
       "    </tr>\n",
       "    <tr>\n",
       "      <th>2</th>\n",
       "      <td>2016-09-06</td>\n",
       "      <td>36.970001</td>\n",
       "      <td>36.360001</td>\n",
       "      <td>36.450001</td>\n",
       "      <td>36.959999</td>\n",
       "      <td>5501700.0</td>\n",
       "      <td>35.625729</td>\n",
       "      <td>AAL</td>\n",
       "    </tr>\n",
       "    <tr>\n",
       "      <th>3</th>\n",
       "      <td>2016-09-07</td>\n",
       "      <td>39.520000</td>\n",
       "      <td>37.419998</td>\n",
       "      <td>37.500000</td>\n",
       "      <td>38.750000</td>\n",
       "      <td>13775000.0</td>\n",
       "      <td>37.351112</td>\n",
       "      <td>AAL</td>\n",
       "    </tr>\n",
       "    <tr>\n",
       "      <th>4</th>\n",
       "      <td>2016-09-08</td>\n",
       "      <td>39.410000</td>\n",
       "      <td>38.430000</td>\n",
       "      <td>38.680000</td>\n",
       "      <td>39.349998</td>\n",
       "      <td>7101500.0</td>\n",
       "      <td>37.929455</td>\n",
       "      <td>AAL</td>\n",
       "    </tr>\n",
       "  </tbody>\n",
       "</table>\n",
       "</div>"
      ],
      "text/plain": [
       "         Date       High        Low       Open      Close      Volume  \\\n",
       "0  2016-09-01  36.709999  35.880001  36.529999  36.240002   6940600.0   \n",
       "1  2016-09-02  36.700001  36.000000  36.000000  36.529999   5429100.0   \n",
       "2  2016-09-06  36.970001  36.360001  36.450001  36.959999   5501700.0   \n",
       "3  2016-09-07  39.520000  37.419998  37.500000  38.750000  13775000.0   \n",
       "4  2016-09-08  39.410000  38.430000  38.680000  39.349998   7101500.0   \n",
       "\n",
       "   Adj Close Symbol  \n",
       "0  34.931732    AAL  \n",
       "1  35.211254    AAL  \n",
       "2  35.625729    AAL  \n",
       "3  37.351112    AAL  \n",
       "4  37.929455    AAL  "
      ]
     },
     "execution_count": 37,
     "metadata": {},
     "output_type": "execute_result"
    }
   ],
   "source": [
    "df_snp500_daily_ticker.head()"
   ]
  },
  {
   "cell_type": "markdown",
   "metadata": {},
   "source": [
    "#### Merge Historical Stock Dividend Data <a class=\"anchor\" id=\"HD\"></a>"
   ]
  },
  {
   "cell_type": "code",
   "execution_count": 38,
   "metadata": {},
   "outputs": [],
   "source": [
    "all_dividend_files_bronze = glob.glob(dividend_data_bronze + \"/*.csv\")"
   ]
  },
  {
   "cell_type": "code",
   "execution_count": 39,
   "metadata": {},
   "outputs": [],
   "source": [
    "list_content = []\n",
    "\n",
    "for filename in all_dividend_files_bronze:\n",
    "    temp_df = pd.read_csv(filename, index_col=None, header=0)\n",
    "    #Extract the stockname from the filename and add it\n",
    "    stock_name = os.path.basename(filename).split('_')[0]\n",
    "    temp_df['Symbol'] = stock_name\n",
    "    list_content.append(temp_df)"
   ]
  },
  {
   "cell_type": "code",
   "execution_count": 40,
   "metadata": {},
   "outputs": [],
   "source": [
    "df_dividend_stock_bronze = pd.concat(list_content, axis=0, ignore_index=True)"
   ]
  },
  {
   "cell_type": "code",
   "execution_count": 43,
   "metadata": {},
   "outputs": [
    {
     "name": "stdout",
     "output_type": "stream",
     "text": [
      "<class 'pandas.core.frame.DataFrame'>\n",
      "RangeIndex: 7772 entries, 0 to 7771\n",
      "Data columns (total 4 columns):\n",
      "Unnamed: 0    7772 non-null object\n",
      "action        7772 non-null object\n",
      "value         7772 non-null float64\n",
      "Symbol        7772 non-null object\n",
      "dtypes: float64(1), object(3)\n",
      "memory usage: 243.0+ KB\n"
     ]
    }
   ],
   "source": [
    "df_dividend_stock_bronze.info()"
   ]
  },
  {
   "cell_type": "code",
   "execution_count": 44,
   "metadata": {},
   "outputs": [
    {
     "data": {
      "text/html": [
       "<div>\n",
       "<style scoped>\n",
       "    .dataframe tbody tr th:only-of-type {\n",
       "        vertical-align: middle;\n",
       "    }\n",
       "\n",
       "    .dataframe tbody tr th {\n",
       "        vertical-align: top;\n",
       "    }\n",
       "\n",
       "    .dataframe thead th {\n",
       "        text-align: right;\n",
       "    }\n",
       "</style>\n",
       "<table border=\"1\" class=\"dataframe\">\n",
       "  <thead>\n",
       "    <tr style=\"text-align: right;\">\n",
       "      <th></th>\n",
       "      <th>Unnamed: 0</th>\n",
       "      <th>action</th>\n",
       "      <th>value</th>\n",
       "      <th>Symbol</th>\n",
       "    </tr>\n",
       "  </thead>\n",
       "  <tbody>\n",
       "    <tr>\n",
       "      <th>0</th>\n",
       "      <td>2020-02-04</td>\n",
       "      <td>DIVIDEND</td>\n",
       "      <td>0.1</td>\n",
       "      <td>AAL</td>\n",
       "    </tr>\n",
       "    <tr>\n",
       "      <th>1</th>\n",
       "      <td>2019-11-05</td>\n",
       "      <td>DIVIDEND</td>\n",
       "      <td>0.1</td>\n",
       "      <td>AAL</td>\n",
       "    </tr>\n",
       "    <tr>\n",
       "      <th>2</th>\n",
       "      <td>2019-08-06</td>\n",
       "      <td>DIVIDEND</td>\n",
       "      <td>0.1</td>\n",
       "      <td>AAL</td>\n",
       "    </tr>\n",
       "    <tr>\n",
       "      <th>3</th>\n",
       "      <td>2019-05-07</td>\n",
       "      <td>DIVIDEND</td>\n",
       "      <td>0.1</td>\n",
       "      <td>AAL</td>\n",
       "    </tr>\n",
       "    <tr>\n",
       "      <th>4</th>\n",
       "      <td>2019-02-05</td>\n",
       "      <td>DIVIDEND</td>\n",
       "      <td>0.1</td>\n",
       "      <td>AAL</td>\n",
       "    </tr>\n",
       "  </tbody>\n",
       "</table>\n",
       "</div>"
      ],
      "text/plain": [
       "   Unnamed: 0    action  value Symbol\n",
       "0  2020-02-04  DIVIDEND    0.1    AAL\n",
       "1  2019-11-05  DIVIDEND    0.1    AAL\n",
       "2  2019-08-06  DIVIDEND    0.1    AAL\n",
       "3  2019-05-07  DIVIDEND    0.1    AAL\n",
       "4  2019-02-05  DIVIDEND    0.1    AAL"
      ]
     },
     "execution_count": 44,
     "metadata": {},
     "output_type": "execute_result"
    }
   ],
   "source": [
    "df_dividend_stock_bronze.head()"
   ]
  },
  {
   "cell_type": "code",
   "execution_count": 47,
   "metadata": {},
   "outputs": [
    {
     "data": {
      "text/html": [
       "<div>\n",
       "<style scoped>\n",
       "    .dataframe tbody tr th:only-of-type {\n",
       "        vertical-align: middle;\n",
       "    }\n",
       "\n",
       "    .dataframe tbody tr th {\n",
       "        vertical-align: top;\n",
       "    }\n",
       "\n",
       "    .dataframe thead th {\n",
       "        text-align: right;\n",
       "    }\n",
       "</style>\n",
       "<table border=\"1\" class=\"dataframe\">\n",
       "  <thead>\n",
       "    <tr style=\"text-align: right;\">\n",
       "      <th></th>\n",
       "      <th>Date</th>\n",
       "      <th>action</th>\n",
       "      <th>value</th>\n",
       "      <th>Symbol</th>\n",
       "    </tr>\n",
       "  </thead>\n",
       "  <tbody>\n",
       "    <tr>\n",
       "      <th>0</th>\n",
       "      <td>2020-02-04</td>\n",
       "      <td>DIVIDEND</td>\n",
       "      <td>0.1</td>\n",
       "      <td>AAL</td>\n",
       "    </tr>\n",
       "    <tr>\n",
       "      <th>1</th>\n",
       "      <td>2019-11-05</td>\n",
       "      <td>DIVIDEND</td>\n",
       "      <td>0.1</td>\n",
       "      <td>AAL</td>\n",
       "    </tr>\n",
       "    <tr>\n",
       "      <th>2</th>\n",
       "      <td>2019-08-06</td>\n",
       "      <td>DIVIDEND</td>\n",
       "      <td>0.1</td>\n",
       "      <td>AAL</td>\n",
       "    </tr>\n",
       "    <tr>\n",
       "      <th>3</th>\n",
       "      <td>2019-05-07</td>\n",
       "      <td>DIVIDEND</td>\n",
       "      <td>0.1</td>\n",
       "      <td>AAL</td>\n",
       "    </tr>\n",
       "    <tr>\n",
       "      <th>4</th>\n",
       "      <td>2019-02-05</td>\n",
       "      <td>DIVIDEND</td>\n",
       "      <td>0.1</td>\n",
       "      <td>AAL</td>\n",
       "    </tr>\n",
       "  </tbody>\n",
       "</table>\n",
       "</div>"
      ],
      "text/plain": [
       "         Date    action  value Symbol\n",
       "0  2020-02-04  DIVIDEND    0.1    AAL\n",
       "1  2019-11-05  DIVIDEND    0.1    AAL\n",
       "2  2019-08-06  DIVIDEND    0.1    AAL\n",
       "3  2019-05-07  DIVIDEND    0.1    AAL\n",
       "4  2019-02-05  DIVIDEND    0.1    AAL"
      ]
     },
     "execution_count": 47,
     "metadata": {},
     "output_type": "execute_result"
    }
   ],
   "source": [
    "df_dividend_stock_bronze.rename(columns={'Unnamed: 0' :'Date'}, inplace=True )\n",
    "df_dividend_stock_bronze.head()"
   ]
  },
  {
   "cell_type": "code",
   "execution_count": 48,
   "metadata": {},
   "outputs": [
    {
     "name": "stdout",
     "output_type": "stream",
     "text": [
      "<class 'pandas.core.frame.DataFrame'>\n",
      "RangeIndex: 7772 entries, 0 to 7771\n",
      "Data columns (total 4 columns):\n",
      "Date      7772 non-null object\n",
      "action    7772 non-null object\n",
      "value     7772 non-null float64\n",
      "Symbol    7772 non-null object\n",
      "dtypes: float64(1), object(3)\n",
      "memory usage: 243.0+ KB\n"
     ]
    }
   ],
   "source": [
    "df_dividend_stock_bronze.info()"
   ]
  },
  {
   "cell_type": "code",
   "execution_count": 51,
   "metadata": {},
   "outputs": [
    {
     "data": {
      "text/plain": [
       "Date      0\n",
       "action    0\n",
       "value     0\n",
       "Symbol    0\n",
       "dtype: int64"
      ]
     },
     "execution_count": 51,
     "metadata": {},
     "output_type": "execute_result"
    }
   ],
   "source": [
    "#Let us quickly handle null values\n",
    "df_dividend_stock_bronze.isnull().sum()"
   ]
  },
  {
   "cell_type": "markdown",
   "metadata": {},
   "source": [
    "Seems like there is no null values to handle. Cool!!!"
   ]
  },
  {
   "cell_type": "code",
   "execution_count": 52,
   "metadata": {},
   "outputs": [],
   "source": [
    "#Write in silver directory\n",
    "output_file_name = silver_data_folder + '/snp500_dividends.csv'\n",
    "df_dividend_stock_bronze.to_csv(output_file_name, index=False)    "
   ]
  },
  {
   "cell_type": "code",
   "execution_count": 53,
   "metadata": {},
   "outputs": [
    {
     "name": "stdout",
     "output_type": "stream",
     "text": [
      "<class 'pandas.core.frame.DataFrame'>\n",
      "RangeIndex: 7772 entries, 0 to 7771\n",
      "Data columns (total 4 columns):\n",
      "Date      7772 non-null object\n",
      "action    7772 non-null object\n",
      "value     7772 non-null float64\n",
      "Symbol    7772 non-null object\n",
      "dtypes: float64(1), object(3)\n",
      "memory usage: 243.0+ KB\n"
     ]
    }
   ],
   "source": [
    "df_snp500_dividend = pd.read_csv(output_file_name)\n",
    "df_snp500_dividend.info()"
   ]
  },
  {
   "cell_type": "code",
   "execution_count": 54,
   "metadata": {},
   "outputs": [
    {
     "data": {
      "text/html": [
       "<div>\n",
       "<style scoped>\n",
       "    .dataframe tbody tr th:only-of-type {\n",
       "        vertical-align: middle;\n",
       "    }\n",
       "\n",
       "    .dataframe tbody tr th {\n",
       "        vertical-align: top;\n",
       "    }\n",
       "\n",
       "    .dataframe thead th {\n",
       "        text-align: right;\n",
       "    }\n",
       "</style>\n",
       "<table border=\"1\" class=\"dataframe\">\n",
       "  <thead>\n",
       "    <tr style=\"text-align: right;\">\n",
       "      <th></th>\n",
       "      <th>Date</th>\n",
       "      <th>action</th>\n",
       "      <th>value</th>\n",
       "      <th>Symbol</th>\n",
       "    </tr>\n",
       "  </thead>\n",
       "  <tbody>\n",
       "    <tr>\n",
       "      <th>0</th>\n",
       "      <td>2020-02-04</td>\n",
       "      <td>DIVIDEND</td>\n",
       "      <td>0.1</td>\n",
       "      <td>AAL</td>\n",
       "    </tr>\n",
       "    <tr>\n",
       "      <th>1</th>\n",
       "      <td>2019-11-05</td>\n",
       "      <td>DIVIDEND</td>\n",
       "      <td>0.1</td>\n",
       "      <td>AAL</td>\n",
       "    </tr>\n",
       "    <tr>\n",
       "      <th>2</th>\n",
       "      <td>2019-08-06</td>\n",
       "      <td>DIVIDEND</td>\n",
       "      <td>0.1</td>\n",
       "      <td>AAL</td>\n",
       "    </tr>\n",
       "    <tr>\n",
       "      <th>3</th>\n",
       "      <td>2019-05-07</td>\n",
       "      <td>DIVIDEND</td>\n",
       "      <td>0.1</td>\n",
       "      <td>AAL</td>\n",
       "    </tr>\n",
       "    <tr>\n",
       "      <th>4</th>\n",
       "      <td>2019-02-05</td>\n",
       "      <td>DIVIDEND</td>\n",
       "      <td>0.1</td>\n",
       "      <td>AAL</td>\n",
       "    </tr>\n",
       "  </tbody>\n",
       "</table>\n",
       "</div>"
      ],
      "text/plain": [
       "         Date    action  value Symbol\n",
       "0  2020-02-04  DIVIDEND    0.1    AAL\n",
       "1  2019-11-05  DIVIDEND    0.1    AAL\n",
       "2  2019-08-06  DIVIDEND    0.1    AAL\n",
       "3  2019-05-07  DIVIDEND    0.1    AAL\n",
       "4  2019-02-05  DIVIDEND    0.1    AAL"
      ]
     },
     "execution_count": 54,
     "metadata": {},
     "output_type": "execute_result"
    }
   ],
   "source": [
    "df_snp500_dividend.head()"
   ]
  },
  {
   "cell_type": "code",
   "execution_count": 66,
   "metadata": {},
   "outputs": [
    {
     "data": {
      "text/plain": [
       "DIVIDEND    7772\n",
       "Name: action, dtype: int64"
      ]
     },
     "execution_count": 66,
     "metadata": {},
     "output_type": "execute_result"
    }
   ],
   "source": [
    "df_snp500_dividend['action'].value_counts()"
   ]
  },
  {
   "cell_type": "markdown",
   "metadata": {},
   "source": [
    "#### Merge Historical Stock Split Data <a class=\"anchor\" id=\"SS\"></a>"
   ]
  },
  {
   "cell_type": "code",
   "execution_count": 55,
   "metadata": {},
   "outputs": [],
   "source": [
    "all_split_files_bronze = glob.glob(split_data_bronze + \"/*.csv\")"
   ]
  },
  {
   "cell_type": "code",
   "execution_count": 56,
   "metadata": {},
   "outputs": [],
   "source": [
    "list_content = []\n",
    "\n",
    "for filename in all_split_files_bronze:\n",
    "    temp_df = pd.read_csv(filename, index_col=None, header=0)\n",
    "    #Extract the stockname from the filename and add it\n",
    "    stock_name = os.path.basename(filename).split('_')[0]\n",
    "    temp_df['Symbol'] = stock_name\n",
    "    list_content.append(temp_df)"
   ]
  },
  {
   "cell_type": "code",
   "execution_count": 57,
   "metadata": {},
   "outputs": [],
   "source": [
    "df_split_stock_bronze = pd.concat(list_content, axis=0, ignore_index=True)"
   ]
  },
  {
   "cell_type": "code",
   "execution_count": 58,
   "metadata": {},
   "outputs": [
    {
     "name": "stdout",
     "output_type": "stream",
     "text": [
      "<class 'pandas.core.frame.DataFrame'>\n",
      "RangeIndex: 7870 entries, 0 to 7869\n",
      "Data columns (total 4 columns):\n",
      "Unnamed: 0    7870 non-null object\n",
      "action        7870 non-null object\n",
      "value         7870 non-null float64\n",
      "Symbol        7870 non-null object\n",
      "dtypes: float64(1), object(3)\n",
      "memory usage: 246.1+ KB\n"
     ]
    }
   ],
   "source": [
    "df_split_stock_bronze.info()"
   ]
  },
  {
   "cell_type": "code",
   "execution_count": 59,
   "metadata": {},
   "outputs": [
    {
     "data": {
      "text/html": [
       "<div>\n",
       "<style scoped>\n",
       "    .dataframe tbody tr th:only-of-type {\n",
       "        vertical-align: middle;\n",
       "    }\n",
       "\n",
       "    .dataframe tbody tr th {\n",
       "        vertical-align: top;\n",
       "    }\n",
       "\n",
       "    .dataframe thead th {\n",
       "        text-align: right;\n",
       "    }\n",
       "</style>\n",
       "<table border=\"1\" class=\"dataframe\">\n",
       "  <thead>\n",
       "    <tr style=\"text-align: right;\">\n",
       "      <th></th>\n",
       "      <th>Unnamed: 0</th>\n",
       "      <th>action</th>\n",
       "      <th>value</th>\n",
       "      <th>Symbol</th>\n",
       "    </tr>\n",
       "  </thead>\n",
       "  <tbody>\n",
       "    <tr>\n",
       "      <th>0</th>\n",
       "      <td>2020-02-04</td>\n",
       "      <td>DIVIDEND</td>\n",
       "      <td>0.1</td>\n",
       "      <td>AAL</td>\n",
       "    </tr>\n",
       "    <tr>\n",
       "      <th>1</th>\n",
       "      <td>2019-11-05</td>\n",
       "      <td>DIVIDEND</td>\n",
       "      <td>0.1</td>\n",
       "      <td>AAL</td>\n",
       "    </tr>\n",
       "    <tr>\n",
       "      <th>2</th>\n",
       "      <td>2019-08-06</td>\n",
       "      <td>DIVIDEND</td>\n",
       "      <td>0.1</td>\n",
       "      <td>AAL</td>\n",
       "    </tr>\n",
       "    <tr>\n",
       "      <th>3</th>\n",
       "      <td>2019-05-07</td>\n",
       "      <td>DIVIDEND</td>\n",
       "      <td>0.1</td>\n",
       "      <td>AAL</td>\n",
       "    </tr>\n",
       "    <tr>\n",
       "      <th>4</th>\n",
       "      <td>2019-02-05</td>\n",
       "      <td>DIVIDEND</td>\n",
       "      <td>0.1</td>\n",
       "      <td>AAL</td>\n",
       "    </tr>\n",
       "  </tbody>\n",
       "</table>\n",
       "</div>"
      ],
      "text/plain": [
       "   Unnamed: 0    action  value Symbol\n",
       "0  2020-02-04  DIVIDEND    0.1    AAL\n",
       "1  2019-11-05  DIVIDEND    0.1    AAL\n",
       "2  2019-08-06  DIVIDEND    0.1    AAL\n",
       "3  2019-05-07  DIVIDEND    0.1    AAL\n",
       "4  2019-02-05  DIVIDEND    0.1    AAL"
      ]
     },
     "execution_count": 59,
     "metadata": {},
     "output_type": "execute_result"
    }
   ],
   "source": [
    "df_split_stock_bronze.head()"
   ]
  },
  {
   "cell_type": "code",
   "execution_count": 60,
   "metadata": {},
   "outputs": [
    {
     "data": {
      "text/html": [
       "<div>\n",
       "<style scoped>\n",
       "    .dataframe tbody tr th:only-of-type {\n",
       "        vertical-align: middle;\n",
       "    }\n",
       "\n",
       "    .dataframe tbody tr th {\n",
       "        vertical-align: top;\n",
       "    }\n",
       "\n",
       "    .dataframe thead th {\n",
       "        text-align: right;\n",
       "    }\n",
       "</style>\n",
       "<table border=\"1\" class=\"dataframe\">\n",
       "  <thead>\n",
       "    <tr style=\"text-align: right;\">\n",
       "      <th></th>\n",
       "      <th>Date</th>\n",
       "      <th>action</th>\n",
       "      <th>value</th>\n",
       "      <th>Symbol</th>\n",
       "    </tr>\n",
       "  </thead>\n",
       "  <tbody>\n",
       "    <tr>\n",
       "      <th>0</th>\n",
       "      <td>2020-02-04</td>\n",
       "      <td>DIVIDEND</td>\n",
       "      <td>0.1</td>\n",
       "      <td>AAL</td>\n",
       "    </tr>\n",
       "    <tr>\n",
       "      <th>1</th>\n",
       "      <td>2019-11-05</td>\n",
       "      <td>DIVIDEND</td>\n",
       "      <td>0.1</td>\n",
       "      <td>AAL</td>\n",
       "    </tr>\n",
       "    <tr>\n",
       "      <th>2</th>\n",
       "      <td>2019-08-06</td>\n",
       "      <td>DIVIDEND</td>\n",
       "      <td>0.1</td>\n",
       "      <td>AAL</td>\n",
       "    </tr>\n",
       "    <tr>\n",
       "      <th>3</th>\n",
       "      <td>2019-05-07</td>\n",
       "      <td>DIVIDEND</td>\n",
       "      <td>0.1</td>\n",
       "      <td>AAL</td>\n",
       "    </tr>\n",
       "    <tr>\n",
       "      <th>4</th>\n",
       "      <td>2019-02-05</td>\n",
       "      <td>DIVIDEND</td>\n",
       "      <td>0.1</td>\n",
       "      <td>AAL</td>\n",
       "    </tr>\n",
       "  </tbody>\n",
       "</table>\n",
       "</div>"
      ],
      "text/plain": [
       "         Date    action  value Symbol\n",
       "0  2020-02-04  DIVIDEND    0.1    AAL\n",
       "1  2019-11-05  DIVIDEND    0.1    AAL\n",
       "2  2019-08-06  DIVIDEND    0.1    AAL\n",
       "3  2019-05-07  DIVIDEND    0.1    AAL\n",
       "4  2019-02-05  DIVIDEND    0.1    AAL"
      ]
     },
     "execution_count": 60,
     "metadata": {},
     "output_type": "execute_result"
    }
   ],
   "source": [
    "df_split_stock_bronze.rename(columns={'Unnamed: 0' :'Date'}, inplace=True )\n",
    "df_split_stock_bronze.head()"
   ]
  },
  {
   "cell_type": "code",
   "execution_count": 61,
   "metadata": {},
   "outputs": [
    {
     "data": {
      "text/plain": [
       "Date      0\n",
       "action    0\n",
       "value     0\n",
       "Symbol    0\n",
       "dtype: int64"
      ]
     },
     "execution_count": 61,
     "metadata": {},
     "output_type": "execute_result"
    }
   ],
   "source": [
    "#Let us quickly handle null values\n",
    "df_split_stock_bronze.isnull().sum()"
   ]
  },
  {
   "cell_type": "markdown",
   "metadata": {},
   "source": [
    "Seems like there is no null values to handle. Cool!!!"
   ]
  },
  {
   "cell_type": "code",
   "execution_count": 62,
   "metadata": {},
   "outputs": [],
   "source": [
    "#Write in silver directory\n",
    "output_file_name = silver_data_folder + '/snp500_dividend_split.csv'\n",
    "df_split_stock_bronze.to_csv(output_file_name, index=False)    "
   ]
  },
  {
   "cell_type": "code",
   "execution_count": 63,
   "metadata": {},
   "outputs": [
    {
     "name": "stdout",
     "output_type": "stream",
     "text": [
      "<class 'pandas.core.frame.DataFrame'>\n",
      "RangeIndex: 7870 entries, 0 to 7869\n",
      "Data columns (total 4 columns):\n",
      "Date      7870 non-null object\n",
      "action    7870 non-null object\n",
      "value     7870 non-null float64\n",
      "Symbol    7870 non-null object\n",
      "dtypes: float64(1), object(3)\n",
      "memory usage: 246.1+ KB\n"
     ]
    }
   ],
   "source": [
    "df_snp500_dividend_split = pd.read_csv(output_file_name)\n",
    "df_snp500_dividend_split.info()"
   ]
  },
  {
   "cell_type": "code",
   "execution_count": 64,
   "metadata": {},
   "outputs": [
    {
     "data": {
      "text/html": [
       "<div>\n",
       "<style scoped>\n",
       "    .dataframe tbody tr th:only-of-type {\n",
       "        vertical-align: middle;\n",
       "    }\n",
       "\n",
       "    .dataframe tbody tr th {\n",
       "        vertical-align: top;\n",
       "    }\n",
       "\n",
       "    .dataframe thead th {\n",
       "        text-align: right;\n",
       "    }\n",
       "</style>\n",
       "<table border=\"1\" class=\"dataframe\">\n",
       "  <thead>\n",
       "    <tr style=\"text-align: right;\">\n",
       "      <th></th>\n",
       "      <th>Date</th>\n",
       "      <th>action</th>\n",
       "      <th>value</th>\n",
       "      <th>Symbol</th>\n",
       "    </tr>\n",
       "  </thead>\n",
       "  <tbody>\n",
       "    <tr>\n",
       "      <th>0</th>\n",
       "      <td>2020-02-04</td>\n",
       "      <td>DIVIDEND</td>\n",
       "      <td>0.1</td>\n",
       "      <td>AAL</td>\n",
       "    </tr>\n",
       "    <tr>\n",
       "      <th>1</th>\n",
       "      <td>2019-11-05</td>\n",
       "      <td>DIVIDEND</td>\n",
       "      <td>0.1</td>\n",
       "      <td>AAL</td>\n",
       "    </tr>\n",
       "    <tr>\n",
       "      <th>2</th>\n",
       "      <td>2019-08-06</td>\n",
       "      <td>DIVIDEND</td>\n",
       "      <td>0.1</td>\n",
       "      <td>AAL</td>\n",
       "    </tr>\n",
       "    <tr>\n",
       "      <th>3</th>\n",
       "      <td>2019-05-07</td>\n",
       "      <td>DIVIDEND</td>\n",
       "      <td>0.1</td>\n",
       "      <td>AAL</td>\n",
       "    </tr>\n",
       "    <tr>\n",
       "      <th>4</th>\n",
       "      <td>2019-02-05</td>\n",
       "      <td>DIVIDEND</td>\n",
       "      <td>0.1</td>\n",
       "      <td>AAL</td>\n",
       "    </tr>\n",
       "  </tbody>\n",
       "</table>\n",
       "</div>"
      ],
      "text/plain": [
       "         Date    action  value Symbol\n",
       "0  2020-02-04  DIVIDEND    0.1    AAL\n",
       "1  2019-11-05  DIVIDEND    0.1    AAL\n",
       "2  2019-08-06  DIVIDEND    0.1    AAL\n",
       "3  2019-05-07  DIVIDEND    0.1    AAL\n",
       "4  2019-02-05  DIVIDEND    0.1    AAL"
      ]
     },
     "execution_count": 64,
     "metadata": {},
     "output_type": "execute_result"
    }
   ],
   "source": [
    "df_snp500_dividend_split.head()"
   ]
  },
  {
   "cell_type": "code",
   "execution_count": 65,
   "metadata": {},
   "outputs": [
    {
     "data": {
      "text/plain": [
       "DIVIDEND    7804\n",
       "SPLIT         66\n",
       "Name: action, dtype: int64"
      ]
     },
     "execution_count": 65,
     "metadata": {},
     "output_type": "execute_result"
    }
   ],
   "source": [
    "df_snp500_dividend_split['action'].value_counts()"
   ]
  },
  {
   "cell_type": "markdown",
   "metadata": {},
   "source": [
    "#### Copy Stock Financial Data <a class=\"anchor\" id=\"SFD\"></a>"
   ]
  },
  {
   "cell_type": "markdown",
   "metadata": {},
   "source": [
    "The financial data is a superset of the sector data hence we do not need to use the sector data."
   ]
  },
  {
   "cell_type": "code",
   "execution_count": 82,
   "metadata": {},
   "outputs": [
    {
     "data": {
      "text/plain": [
       "'/mnt/batch/tasks/shared/LS_root/mounts/clusters/compute-cpu-ds12-v2/code/Users/rabiswas/StockPrediction/data/silver/snp500_financial.csv'"
      ]
     },
     "execution_count": 82,
     "metadata": {},
     "output_type": "execute_result"
    }
   ],
   "source": [
    "import shutil, os\n",
    "snp500_financial_file = financial_data_bronze + '/snp500_financial.csv'\n",
    "shutil.copy(snp500_financial_file, silver_data_folder)"
   ]
  },
  {
   "cell_type": "code",
   "execution_count": 83,
   "metadata": {},
   "outputs": [
    {
     "name": "stdout",
     "output_type": "stream",
     "text": [
      "<class 'pandas.core.frame.DataFrame'>\n",
      "RangeIndex: 505 entries, 0 to 504\n",
      "Data columns (total 15 columns):\n",
      "Unnamed: 0        505 non-null int64\n",
      "Symbol            505 non-null object\n",
      "Name              505 non-null object\n",
      "Sector            505 non-null object\n",
      "Price             505 non-null float64\n",
      "Price/Earnings    503 non-null float64\n",
      "Dividend Yield    505 non-null float64\n",
      "Earnings/Share    505 non-null float64\n",
      "52 Week Low       505 non-null float64\n",
      "52 Week High      505 non-null float64\n",
      "Market Cap        505 non-null int64\n",
      "EBITDA            505 non-null float64\n",
      "Price/Sales       505 non-null float64\n",
      "Price/Book        497 non-null float64\n",
      "SEC Filings       505 non-null object\n",
      "dtypes: float64(9), int64(2), object(4)\n",
      "memory usage: 59.3+ KB\n"
     ]
    }
   ],
   "source": [
    "output_file_name = silver_data_folder + '/snp500_financial.csv'\n",
    "df_snp500_financial = pd.read_csv(output_file_name)\n",
    "df_snp500_financial.info()"
   ]
  },
  {
   "cell_type": "code",
   "execution_count": 78,
   "metadata": {},
   "outputs": [
    {
     "data": {
      "text/html": [
       "<div>\n",
       "<style scoped>\n",
       "    .dataframe tbody tr th:only-of-type {\n",
       "        vertical-align: middle;\n",
       "    }\n",
       "\n",
       "    .dataframe tbody tr th {\n",
       "        vertical-align: top;\n",
       "    }\n",
       "\n",
       "    .dataframe thead th {\n",
       "        text-align: right;\n",
       "    }\n",
       "</style>\n",
       "<table border=\"1\" class=\"dataframe\">\n",
       "  <thead>\n",
       "    <tr style=\"text-align: right;\">\n",
       "      <th></th>\n",
       "      <th>Unnamed: 0</th>\n",
       "      <th>Symbol</th>\n",
       "      <th>Name</th>\n",
       "      <th>Sector</th>\n",
       "      <th>Price</th>\n",
       "      <th>Price/Earnings</th>\n",
       "      <th>Dividend Yield</th>\n",
       "      <th>Earnings/Share</th>\n",
       "      <th>52 Week Low</th>\n",
       "      <th>52 Week High</th>\n",
       "      <th>Market Cap</th>\n",
       "      <th>EBITDA</th>\n",
       "      <th>Price/Sales</th>\n",
       "      <th>Price/Book</th>\n",
       "      <th>SEC Filings</th>\n",
       "    </tr>\n",
       "  </thead>\n",
       "  <tbody>\n",
       "    <tr>\n",
       "      <th>0</th>\n",
       "      <td>0</td>\n",
       "      <td>MMM</td>\n",
       "      <td>3M Company</td>\n",
       "      <td>Industrials</td>\n",
       "      <td>222.89</td>\n",
       "      <td>24.31</td>\n",
       "      <td>2.332862</td>\n",
       "      <td>7.92</td>\n",
       "      <td>259.77</td>\n",
       "      <td>175.490</td>\n",
       "      <td>138721055226</td>\n",
       "      <td>9.048000e+09</td>\n",
       "      <td>4.390271</td>\n",
       "      <td>11.34</td>\n",
       "      <td>http://www.sec.gov/cgi-bin/browse-edgar?action...</td>\n",
       "    </tr>\n",
       "    <tr>\n",
       "      <th>1</th>\n",
       "      <td>1</td>\n",
       "      <td>AOS</td>\n",
       "      <td>A.O. Smith Corp</td>\n",
       "      <td>Industrials</td>\n",
       "      <td>60.24</td>\n",
       "      <td>27.76</td>\n",
       "      <td>1.147959</td>\n",
       "      <td>1.70</td>\n",
       "      <td>68.39</td>\n",
       "      <td>48.925</td>\n",
       "      <td>10783419933</td>\n",
       "      <td>6.010000e+08</td>\n",
       "      <td>3.575483</td>\n",
       "      <td>6.35</td>\n",
       "      <td>http://www.sec.gov/cgi-bin/browse-edgar?action...</td>\n",
       "    </tr>\n",
       "    <tr>\n",
       "      <th>2</th>\n",
       "      <td>2</td>\n",
       "      <td>ABT</td>\n",
       "      <td>Abbott Laboratories</td>\n",
       "      <td>Health Care</td>\n",
       "      <td>56.27</td>\n",
       "      <td>22.51</td>\n",
       "      <td>1.908982</td>\n",
       "      <td>0.26</td>\n",
       "      <td>64.60</td>\n",
       "      <td>42.280</td>\n",
       "      <td>102121042306</td>\n",
       "      <td>5.744000e+09</td>\n",
       "      <td>3.740480</td>\n",
       "      <td>3.19</td>\n",
       "      <td>http://www.sec.gov/cgi-bin/browse-edgar?action...</td>\n",
       "    </tr>\n",
       "    <tr>\n",
       "      <th>3</th>\n",
       "      <td>3</td>\n",
       "      <td>ABBV</td>\n",
       "      <td>AbbVie Inc.</td>\n",
       "      <td>Health Care</td>\n",
       "      <td>108.48</td>\n",
       "      <td>19.41</td>\n",
       "      <td>2.499560</td>\n",
       "      <td>3.29</td>\n",
       "      <td>125.86</td>\n",
       "      <td>60.050</td>\n",
       "      <td>181386347059</td>\n",
       "      <td>1.031000e+10</td>\n",
       "      <td>6.291571</td>\n",
       "      <td>26.14</td>\n",
       "      <td>http://www.sec.gov/cgi-bin/browse-edgar?action...</td>\n",
       "    </tr>\n",
       "    <tr>\n",
       "      <th>4</th>\n",
       "      <td>4</td>\n",
       "      <td>ACN</td>\n",
       "      <td>Accenture plc</td>\n",
       "      <td>Information Technology</td>\n",
       "      <td>150.51</td>\n",
       "      <td>25.47</td>\n",
       "      <td>1.714470</td>\n",
       "      <td>5.44</td>\n",
       "      <td>162.60</td>\n",
       "      <td>114.820</td>\n",
       "      <td>98765855553</td>\n",
       "      <td>5.643228e+09</td>\n",
       "      <td>2.604117</td>\n",
       "      <td>10.62</td>\n",
       "      <td>http://www.sec.gov/cgi-bin/browse-edgar?action...</td>\n",
       "    </tr>\n",
       "  </tbody>\n",
       "</table>\n",
       "</div>"
      ],
      "text/plain": [
       "   Unnamed: 0 Symbol                 Name                  Sector   Price  \\\n",
       "0           0    MMM           3M Company             Industrials  222.89   \n",
       "1           1    AOS      A.O. Smith Corp             Industrials   60.24   \n",
       "2           2    ABT  Abbott Laboratories             Health Care   56.27   \n",
       "3           3   ABBV          AbbVie Inc.             Health Care  108.48   \n",
       "4           4    ACN        Accenture plc  Information Technology  150.51   \n",
       "\n",
       "   Price/Earnings  Dividend Yield  Earnings/Share  52 Week Low  52 Week High  \\\n",
       "0           24.31        2.332862            7.92       259.77       175.490   \n",
       "1           27.76        1.147959            1.70        68.39        48.925   \n",
       "2           22.51        1.908982            0.26        64.60        42.280   \n",
       "3           19.41        2.499560            3.29       125.86        60.050   \n",
       "4           25.47        1.714470            5.44       162.60       114.820   \n",
       "\n",
       "     Market Cap        EBITDA  Price/Sales  Price/Book  \\\n",
       "0  138721055226  9.048000e+09     4.390271       11.34   \n",
       "1   10783419933  6.010000e+08     3.575483        6.35   \n",
       "2  102121042306  5.744000e+09     3.740480        3.19   \n",
       "3  181386347059  1.031000e+10     6.291571       26.14   \n",
       "4   98765855553  5.643228e+09     2.604117       10.62   \n",
       "\n",
       "                                         SEC Filings  \n",
       "0  http://www.sec.gov/cgi-bin/browse-edgar?action...  \n",
       "1  http://www.sec.gov/cgi-bin/browse-edgar?action...  \n",
       "2  http://www.sec.gov/cgi-bin/browse-edgar?action...  \n",
       "3  http://www.sec.gov/cgi-bin/browse-edgar?action...  \n",
       "4  http://www.sec.gov/cgi-bin/browse-edgar?action...  "
      ]
     },
     "execution_count": 78,
     "metadata": {},
     "output_type": "execute_result"
    }
   ],
   "source": [
    "df_snp500_financial.head()"
   ]
  },
  {
   "cell_type": "code",
   "execution_count": 84,
   "metadata": {},
   "outputs": [],
   "source": [
    "df_snp500_financial.drop(['Unnamed: 0'], axis=1, inplace = True)\n",
    "df_snp500_financial.to_csv(output_file_name, index=False)    "
   ]
  },
  {
   "cell_type": "code",
   "execution_count": 85,
   "metadata": {},
   "outputs": [
    {
     "name": "stdout",
     "output_type": "stream",
     "text": [
      "<class 'pandas.core.frame.DataFrame'>\n",
      "RangeIndex: 505 entries, 0 to 504\n",
      "Data columns (total 14 columns):\n",
      "Symbol            505 non-null object\n",
      "Name              505 non-null object\n",
      "Sector            505 non-null object\n",
      "Price             505 non-null float64\n",
      "Price/Earnings    503 non-null float64\n",
      "Dividend Yield    505 non-null float64\n",
      "Earnings/Share    505 non-null float64\n",
      "52 Week Low       505 non-null float64\n",
      "52 Week High      505 non-null float64\n",
      "Market Cap        505 non-null int64\n",
      "EBITDA            505 non-null float64\n",
      "Price/Sales       505 non-null float64\n",
      "Price/Book        497 non-null float64\n",
      "SEC Filings       505 non-null object\n",
      "dtypes: float64(9), int64(1), object(4)\n",
      "memory usage: 55.4+ KB\n"
     ]
    }
   ],
   "source": [
    "output_file_name = silver_data_folder + '/snp500_financial.csv'\n",
    "df_snp500_financial = pd.read_csv(output_file_name)\n",
    "df_snp500_financial.info()"
   ]
  },
  {
   "cell_type": "code",
   "execution_count": 86,
   "metadata": {},
   "outputs": [
    {
     "data": {
      "text/html": [
       "<div>\n",
       "<style scoped>\n",
       "    .dataframe tbody tr th:only-of-type {\n",
       "        vertical-align: middle;\n",
       "    }\n",
       "\n",
       "    .dataframe tbody tr th {\n",
       "        vertical-align: top;\n",
       "    }\n",
       "\n",
       "    .dataframe thead th {\n",
       "        text-align: right;\n",
       "    }\n",
       "</style>\n",
       "<table border=\"1\" class=\"dataframe\">\n",
       "  <thead>\n",
       "    <tr style=\"text-align: right;\">\n",
       "      <th></th>\n",
       "      <th>Symbol</th>\n",
       "      <th>Name</th>\n",
       "      <th>Sector</th>\n",
       "      <th>Price</th>\n",
       "      <th>Price/Earnings</th>\n",
       "      <th>Dividend Yield</th>\n",
       "      <th>Earnings/Share</th>\n",
       "      <th>52 Week Low</th>\n",
       "      <th>52 Week High</th>\n",
       "      <th>Market Cap</th>\n",
       "      <th>EBITDA</th>\n",
       "      <th>Price/Sales</th>\n",
       "      <th>Price/Book</th>\n",
       "      <th>SEC Filings</th>\n",
       "    </tr>\n",
       "  </thead>\n",
       "  <tbody>\n",
       "    <tr>\n",
       "      <th>0</th>\n",
       "      <td>MMM</td>\n",
       "      <td>3M Company</td>\n",
       "      <td>Industrials</td>\n",
       "      <td>222.89</td>\n",
       "      <td>24.31</td>\n",
       "      <td>2.332862</td>\n",
       "      <td>7.92</td>\n",
       "      <td>259.77</td>\n",
       "      <td>175.490</td>\n",
       "      <td>138721055226</td>\n",
       "      <td>9.048000e+09</td>\n",
       "      <td>4.390271</td>\n",
       "      <td>11.34</td>\n",
       "      <td>http://www.sec.gov/cgi-bin/browse-edgar?action...</td>\n",
       "    </tr>\n",
       "    <tr>\n",
       "      <th>1</th>\n",
       "      <td>AOS</td>\n",
       "      <td>A.O. Smith Corp</td>\n",
       "      <td>Industrials</td>\n",
       "      <td>60.24</td>\n",
       "      <td>27.76</td>\n",
       "      <td>1.147959</td>\n",
       "      <td>1.70</td>\n",
       "      <td>68.39</td>\n",
       "      <td>48.925</td>\n",
       "      <td>10783419933</td>\n",
       "      <td>6.010000e+08</td>\n",
       "      <td>3.575483</td>\n",
       "      <td>6.35</td>\n",
       "      <td>http://www.sec.gov/cgi-bin/browse-edgar?action...</td>\n",
       "    </tr>\n",
       "    <tr>\n",
       "      <th>2</th>\n",
       "      <td>ABT</td>\n",
       "      <td>Abbott Laboratories</td>\n",
       "      <td>Health Care</td>\n",
       "      <td>56.27</td>\n",
       "      <td>22.51</td>\n",
       "      <td>1.908982</td>\n",
       "      <td>0.26</td>\n",
       "      <td>64.60</td>\n",
       "      <td>42.280</td>\n",
       "      <td>102121042306</td>\n",
       "      <td>5.744000e+09</td>\n",
       "      <td>3.740480</td>\n",
       "      <td>3.19</td>\n",
       "      <td>http://www.sec.gov/cgi-bin/browse-edgar?action...</td>\n",
       "    </tr>\n",
       "    <tr>\n",
       "      <th>3</th>\n",
       "      <td>ABBV</td>\n",
       "      <td>AbbVie Inc.</td>\n",
       "      <td>Health Care</td>\n",
       "      <td>108.48</td>\n",
       "      <td>19.41</td>\n",
       "      <td>2.499560</td>\n",
       "      <td>3.29</td>\n",
       "      <td>125.86</td>\n",
       "      <td>60.050</td>\n",
       "      <td>181386347059</td>\n",
       "      <td>1.031000e+10</td>\n",
       "      <td>6.291571</td>\n",
       "      <td>26.14</td>\n",
       "      <td>http://www.sec.gov/cgi-bin/browse-edgar?action...</td>\n",
       "    </tr>\n",
       "    <tr>\n",
       "      <th>4</th>\n",
       "      <td>ACN</td>\n",
       "      <td>Accenture plc</td>\n",
       "      <td>Information Technology</td>\n",
       "      <td>150.51</td>\n",
       "      <td>25.47</td>\n",
       "      <td>1.714470</td>\n",
       "      <td>5.44</td>\n",
       "      <td>162.60</td>\n",
       "      <td>114.820</td>\n",
       "      <td>98765855553</td>\n",
       "      <td>5.643228e+09</td>\n",
       "      <td>2.604117</td>\n",
       "      <td>10.62</td>\n",
       "      <td>http://www.sec.gov/cgi-bin/browse-edgar?action...</td>\n",
       "    </tr>\n",
       "  </tbody>\n",
       "</table>\n",
       "</div>"
      ],
      "text/plain": [
       "  Symbol                 Name                  Sector   Price  Price/Earnings  \\\n",
       "0    MMM           3M Company             Industrials  222.89           24.31   \n",
       "1    AOS      A.O. Smith Corp             Industrials   60.24           27.76   \n",
       "2    ABT  Abbott Laboratories             Health Care   56.27           22.51   \n",
       "3   ABBV          AbbVie Inc.             Health Care  108.48           19.41   \n",
       "4    ACN        Accenture plc  Information Technology  150.51           25.47   \n",
       "\n",
       "   Dividend Yield  Earnings/Share  52 Week Low  52 Week High    Market Cap  \\\n",
       "0        2.332862            7.92       259.77       175.490  138721055226   \n",
       "1        1.147959            1.70        68.39        48.925   10783419933   \n",
       "2        1.908982            0.26        64.60        42.280  102121042306   \n",
       "3        2.499560            3.29       125.86        60.050  181386347059   \n",
       "4        1.714470            5.44       162.60       114.820   98765855553   \n",
       "\n",
       "         EBITDA  Price/Sales  Price/Book  \\\n",
       "0  9.048000e+09     4.390271       11.34   \n",
       "1  6.010000e+08     3.575483        6.35   \n",
       "2  5.744000e+09     3.740480        3.19   \n",
       "3  1.031000e+10     6.291571       26.14   \n",
       "4  5.643228e+09     2.604117       10.62   \n",
       "\n",
       "                                         SEC Filings  \n",
       "0  http://www.sec.gov/cgi-bin/browse-edgar?action...  \n",
       "1  http://www.sec.gov/cgi-bin/browse-edgar?action...  \n",
       "2  http://www.sec.gov/cgi-bin/browse-edgar?action...  \n",
       "3  http://www.sec.gov/cgi-bin/browse-edgar?action...  \n",
       "4  http://www.sec.gov/cgi-bin/browse-edgar?action...  "
      ]
     },
     "execution_count": 86,
     "metadata": {},
     "output_type": "execute_result"
    }
   ],
   "source": [
    "df_snp500_financial.head()"
   ]
  },
  {
   "cell_type": "code",
   "execution_count": 92,
   "metadata": {},
   "outputs": [
    {
     "data": {
      "text/html": [
       "<div>\n",
       "<style scoped>\n",
       "    .dataframe tbody tr th:only-of-type {\n",
       "        vertical-align: middle;\n",
       "    }\n",
       "\n",
       "    .dataframe tbody tr th {\n",
       "        vertical-align: top;\n",
       "    }\n",
       "\n",
       "    .dataframe thead th {\n",
       "        text-align: right;\n",
       "    }\n",
       "</style>\n",
       "<table border=\"1\" class=\"dataframe\">\n",
       "  <thead>\n",
       "    <tr style=\"text-align: right;\">\n",
       "      <th></th>\n",
       "      <th>0</th>\n",
       "      <th>1</th>\n",
       "      <th>2</th>\n",
       "    </tr>\n",
       "  </thead>\n",
       "  <tbody>\n",
       "    <tr>\n",
       "      <th>Symbol</th>\n",
       "      <td>MMM</td>\n",
       "      <td>AOS</td>\n",
       "      <td>ABT</td>\n",
       "    </tr>\n",
       "    <tr>\n",
       "      <th>Name</th>\n",
       "      <td>3M Company</td>\n",
       "      <td>A.O. Smith Corp</td>\n",
       "      <td>Abbott Laboratories</td>\n",
       "    </tr>\n",
       "    <tr>\n",
       "      <th>Sector</th>\n",
       "      <td>Industrials</td>\n",
       "      <td>Industrials</td>\n",
       "      <td>Health Care</td>\n",
       "    </tr>\n",
       "    <tr>\n",
       "      <th>Price</th>\n",
       "      <td>222.89</td>\n",
       "      <td>60.24</td>\n",
       "      <td>56.27</td>\n",
       "    </tr>\n",
       "    <tr>\n",
       "      <th>Price/Earnings</th>\n",
       "      <td>24.31</td>\n",
       "      <td>27.76</td>\n",
       "      <td>22.51</td>\n",
       "    </tr>\n",
       "    <tr>\n",
       "      <th>Dividend Yield</th>\n",
       "      <td>2.33286</td>\n",
       "      <td>1.14796</td>\n",
       "      <td>1.90898</td>\n",
       "    </tr>\n",
       "    <tr>\n",
       "      <th>Earnings/Share</th>\n",
       "      <td>7.92</td>\n",
       "      <td>1.7</td>\n",
       "      <td>0.26</td>\n",
       "    </tr>\n",
       "    <tr>\n",
       "      <th>52 Week Low</th>\n",
       "      <td>259.77</td>\n",
       "      <td>68.39</td>\n",
       "      <td>64.6</td>\n",
       "    </tr>\n",
       "    <tr>\n",
       "      <th>52 Week High</th>\n",
       "      <td>175.49</td>\n",
       "      <td>48.925</td>\n",
       "      <td>42.28</td>\n",
       "    </tr>\n",
       "    <tr>\n",
       "      <th>Market Cap</th>\n",
       "      <td>138721055226</td>\n",
       "      <td>10783419933</td>\n",
       "      <td>102121042306</td>\n",
       "    </tr>\n",
       "    <tr>\n",
       "      <th>EBITDA</th>\n",
       "      <td>9.048e+09</td>\n",
       "      <td>6.01e+08</td>\n",
       "      <td>5.744e+09</td>\n",
       "    </tr>\n",
       "    <tr>\n",
       "      <th>Price/Sales</th>\n",
       "      <td>4.39027</td>\n",
       "      <td>3.57548</td>\n",
       "      <td>3.74048</td>\n",
       "    </tr>\n",
       "    <tr>\n",
       "      <th>Price/Book</th>\n",
       "      <td>11.34</td>\n",
       "      <td>6.35</td>\n",
       "      <td>3.19</td>\n",
       "    </tr>\n",
       "    <tr>\n",
       "      <th>SEC Filings</th>\n",
       "      <td>http://www.sec.gov/cgi-bin/browse-edgar?action...</td>\n",
       "      <td>http://www.sec.gov/cgi-bin/browse-edgar?action...</td>\n",
       "      <td>http://www.sec.gov/cgi-bin/browse-edgar?action...</td>\n",
       "    </tr>\n",
       "  </tbody>\n",
       "</table>\n",
       "</div>"
      ],
      "text/plain": [
       "                                                                0  \\\n",
       "Symbol                                                        MMM   \n",
       "Name                                                   3M Company   \n",
       "Sector                                                Industrials   \n",
       "Price                                                      222.89   \n",
       "Price/Earnings                                              24.31   \n",
       "Dividend Yield                                            2.33286   \n",
       "Earnings/Share                                               7.92   \n",
       "52 Week Low                                                259.77   \n",
       "52 Week High                                               175.49   \n",
       "Market Cap                                           138721055226   \n",
       "EBITDA                                                  9.048e+09   \n",
       "Price/Sales                                               4.39027   \n",
       "Price/Book                                                  11.34   \n",
       "SEC Filings     http://www.sec.gov/cgi-bin/browse-edgar?action...   \n",
       "\n",
       "                                                                1  \\\n",
       "Symbol                                                        AOS   \n",
       "Name                                              A.O. Smith Corp   \n",
       "Sector                                                Industrials   \n",
       "Price                                                       60.24   \n",
       "Price/Earnings                                              27.76   \n",
       "Dividend Yield                                            1.14796   \n",
       "Earnings/Share                                                1.7   \n",
       "52 Week Low                                                 68.39   \n",
       "52 Week High                                               48.925   \n",
       "Market Cap                                            10783419933   \n",
       "EBITDA                                                   6.01e+08   \n",
       "Price/Sales                                               3.57548   \n",
       "Price/Book                                                   6.35   \n",
       "SEC Filings     http://www.sec.gov/cgi-bin/browse-edgar?action...   \n",
       "\n",
       "                                                                2  \n",
       "Symbol                                                        ABT  \n",
       "Name                                          Abbott Laboratories  \n",
       "Sector                                                Health Care  \n",
       "Price                                                       56.27  \n",
       "Price/Earnings                                              22.51  \n",
       "Dividend Yield                                            1.90898  \n",
       "Earnings/Share                                               0.26  \n",
       "52 Week Low                                                  64.6  \n",
       "52 Week High                                                42.28  \n",
       "Market Cap                                           102121042306  \n",
       "EBITDA                                                  5.744e+09  \n",
       "Price/Sales                                               3.74048  \n",
       "Price/Book                                                   3.19  \n",
       "SEC Filings     http://www.sec.gov/cgi-bin/browse-edgar?action...  "
      ]
     },
     "execution_count": 92,
     "metadata": {},
     "output_type": "execute_result"
    }
   ],
   "source": [
    "#It is easier to view the data if we transpose\n",
    "df_snp500_financial.head(3).transpose()"
   ]
  },
  {
   "cell_type": "code",
   "execution_count": 88,
   "metadata": {},
   "outputs": [],
   "source": [
    "#!pip install yfinance\n",
    "\n",
    "import yfinance as yf"
   ]
  },
  {
   "cell_type": "markdown",
   "metadata": {},
   "source": [
    "##### The S&P 500 financial data captured was not worth except for the sector information since there is no date component in the data:"
   ]
  },
  {
   "cell_type": "code",
   "execution_count": 94,
   "metadata": {},
   "outputs": [],
   "source": [
    "#!pip install yahoo_fin\n",
    "import yahoo_fin.stock_info as si"
   ]
  },
  {
   "cell_type": "code",
   "execution_count": 95,
   "metadata": {},
   "outputs": [
    {
     "data": {
      "text/plain": [
       "{'1y Target Est': 167.13,\n",
       " '52 Week Range': '103.10 - 157.26',\n",
       " 'Ask': '148.68 x 1100',\n",
       " 'Avg. Volume': 78489468.0,\n",
       " 'Beta (5Y Monthly)': 1.2,\n",
       " 'Bid': '148.67 x 2200',\n",
       " \"Day's Range\": '148.70 - 155.48',\n",
       " 'EPS (TTM)': 5.11,\n",
       " 'Earnings Date': 'Oct 27, 2021 - Nov 01, 2021',\n",
       " 'Ex-Dividend Date': 'Aug 06, 2021',\n",
       " 'Forward Dividend & Yield': '0.88 (0.59%)',\n",
       " 'Market Cap': '2.463T',\n",
       " 'Open': 155.0,\n",
       " 'PE Ratio (TTM)': 29.16,\n",
       " 'Previous Close': 154.07,\n",
       " 'Quote Price': 148.97000122070312,\n",
       " 'Volume': 140893235.0}"
      ]
     },
     "execution_count": 95,
     "metadata": {},
     "output_type": "execute_result"
    }
   ],
   "source": [
    "quote = si.get_quote_table(\"aapl\")\n",
    "quote"
   ]
  },
  {
   "cell_type": "code",
   "execution_count": null,
   "metadata": {},
   "outputs": [],
   "source": []
  }
 ],
 "metadata": {
  "kernel_info": {
   "name": "python3-azureml"
  },
  "kernelspec": {
   "display_name": "Python 3.6 - AzureML",
   "language": "python",
   "name": "python3-azureml"
  },
  "language_info": {
   "codemirror_mode": {
    "name": "ipython",
    "version": 3
   },
   "file_extension": ".py",
   "mimetype": "text/x-python",
   "name": "python",
   "nbconvert_exporter": "python",
   "pygments_lexer": "ipython3",
   "version": "3.6.9"
  },
  "nteract": {
   "version": "nteract-front-end@1.0.0"
  }
 },
 "nbformat": 4,
 "nbformat_minor": 2
}
