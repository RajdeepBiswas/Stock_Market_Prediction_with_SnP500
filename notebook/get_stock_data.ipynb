{
 "cells": [
  {
   "cell_type": "markdown",
   "metadata": {},
   "source": [
    "###  ---------------------------------------------------------------------------------------------------------------------------------------\n",
    "##### Copyright (c) Rajdeep Biswas\n",
    "##### Licensed under the MIT license.\n",
    "###### File: get_stock_data.ipynb\n",
    "###### Date: 09/04/2021\n",
    "###  ---------------------------------------------------------------------------------------------------------------------------------------"
   ]
  },
  {
   "cell_type": "markdown",
   "metadata": {},
   "source": [
    "### Table of Contents\n",
    "\n",
    "* [Initial Configurations](#IC)\n",
    "    * [Import Libraries](#IL)\n",
    "    * [Autheticate the AML Workspace](#AML)\n",
    "* [Get Data (Bronze)](#GD)\n",
    "    * [Setup Directory Structure](#SD)\n",
    "    * [Download Daily Stock Data](#DD)\n",
    "    * [Configure SnP500 List](#SL)\n",
    "    * [Configure Time Window](#DT)\n",
    "    * [Download Daily Stock Data](#DSD)\n",
    "    * [Download Historical Stock Dividend Data](#HD)\n",
    "    * [Download Historical Stock Split Data](#SS)\n",
    "    * [Download Stock Sector Data](#SSD)    \n",
    "    * [Download Stock Financial Data](#SFD)      "
   ]
  },
  {
   "cell_type": "markdown",
   "metadata": {},
   "source": [
    "### Initial Configurations <a class=\"anchor\" id=\"IC\"></a>"
   ]
  },
  {
   "cell_type": "markdown",
   "metadata": {},
   "source": [
    "#### Import Libraries <a class=\"anchor\" id=\"IL\"></a>"
   ]
  },
  {
   "cell_type": "code",
   "execution_count": 48,
   "metadata": {},
   "outputs": [],
   "source": [
    "#Import required Libraries\n",
    "import os\n",
    "\n",
    "import numpy as np # linear algebra\n",
    "import pandas as pd # data processing, CSV file I/O (e.g. pd.read_csv)\n",
    "import seaborn as sns\n",
    "import matplotlib.pyplot as plt\n",
    "from matplotlib.image import imread\n",
    "import cv2\n",
    "%matplotlib inline\n",
    "\n",
    "import warnings\n",
    "warnings.filterwarnings(\"ignore\")\n",
    "\n",
    "#pip install pandas_datareader\n",
    "import pandas_datareader.data as web\n",
    "import pandas as pd\n",
    "import datetime as dt\n",
    "\n",
    "import azureml.core\n",
    "import azureml.automl\n",
    "from azureml.core import Workspace, Dataset, Datastore"
   ]
  },
  {
   "cell_type": "markdown",
   "metadata": {},
   "source": [
    "#### Autheticate the AML Workspace <a class=\"anchor\" id=\"AML\"></a>"
   ]
  },
  {
   "cell_type": "code",
   "execution_count": 21,
   "metadata": {
    "gather": {
     "logged": 1630514955010
    },
    "jupyter": {
     "outputs_hidden": false,
     "source_hidden": false
    },
    "nteract": {
     "transient": {
      "deleting": false
     }
    }
   },
   "outputs": [
    {
     "name": "stdout",
     "output_type": "stream",
     "text": [
      "Ready to use Azure ML 1.33.0 to work with houston-techsummit-workspace\n"
     ]
    }
   ],
   "source": [
    "import azureml.core\n",
    "from azureml.core import Workspace\n",
    "\n",
    "# Load the workspace from the saved config file\n",
    "ws = Workspace.from_config()\n",
    "print('Ready to use Azure ML {} to work with {}'.format(azureml.core.VERSION, ws.name))"
   ]
  },
  {
   "cell_type": "markdown",
   "metadata": {
    "collapsed": true,
    "jupyter": {
     "outputs_hidden": false,
     "source_hidden": false
    },
    "nteract": {
     "transient": {
      "deleting": false
     }
    }
   },
   "source": [
    "### Get Data (Bronze) <a class=\"anchor\" id=\"GD\"></a>\n",
    "- Raw data extraction for the file, API based and web datasets. Let us call this __Bronze Layer__.\n",
    "- Data transformation using python from Raw to Processed stage. We will call this __Silver Layer__.\n",
    "- Finally store the processed data using standard taxonomy in a SQL based serving layer. We will call this __Gold Layer__."
   ]
  },
  {
   "cell_type": "markdown",
   "metadata": {},
   "source": [
    "#### Setup Directory Structure <a class=\"anchor\" id=\"SD\"></a>"
   ]
  },
  {
   "cell_type": "code",
   "execution_count": 42,
   "metadata": {},
   "outputs": [],
   "source": [
    "data_folder = os.path.join(os.getcwd(), 'data')\n",
    "\n",
    "#Create the data directory\n",
    "os.makedirs(data_folder, exist_ok=True)\n",
    "\n",
    "#Create the bronze, silver and gold folders\n",
    "bronze_data_folder = data_folder +\"/bronze\"\n",
    "os.makedirs(bronze_data_folder, exist_ok=True)\n",
    "\n",
    "silver_data_folder = data_folder +\"/silver\"\n",
    "os.makedirs(silver_data_folder, exist_ok=True)\n",
    "\n",
    "gold_data_folder = data_folder +\"/gold\"\n",
    "os.makedirs(gold_data_folder, exist_ok=True)\n",
    "\n",
    "#Create sub folder for stock daily close data\n",
    "file_data_bronze = bronze_data_folder +\"/snp500\"\n",
    "os.makedirs(file_data_bronze, exist_ok=True)\n",
    "\n",
    "#Create sub folder for dividends\n",
    "dividend_data_bronze = bronze_data_folder +\"/snp500_dividends\"\n",
    "os.makedirs(dividend_data_bronze, exist_ok=True)\n",
    "\n",
    "#Create sub folder for splits\n",
    "split_data_bronze = bronze_data_folder +\"/snp500_splits\"\n",
    "os.makedirs(split_data_bronze, exist_ok=True)\n",
    "\n",
    "#Create sub folder for sectors\n",
    "sector_data_bronze = bronze_data_folder +\"/snp500_sectors\"\n",
    "os.makedirs(sector_data_bronze, exist_ok=True)\n",
    "\n",
    "#Create sub folder for financials\n",
    "financial_data_bronze = bronze_data_folder +\"/snp500_financial\"\n",
    "os.makedirs(financial_data_bronze, exist_ok=True)"
   ]
  },
  {
   "cell_type": "markdown",
   "metadata": {},
   "source": [
    "#### Configure SnP500 List<a class=\"anchor\" id=\"SL\"></a>"
   ]
  },
  {
   "cell_type": "code",
   "execution_count": 49,
   "metadata": {},
   "outputs": [],
   "source": [
    "s_n_p_list = ['AAPL', 'MSFT', 'AMZN', 'FB', 'GOOGL', 'GOOG', 'TSLA', 'NVDA', 'BRK.B', 'JPM', 'JNJ',\n",
    "              'UNH', 'V', 'PG', 'HD', 'PYPL', 'DIS', 'ADBE', 'BAC', 'MA', 'CMCSA', 'PFE', 'CRM', 'NFLX',\n",
    "              'CSCO', 'XOM', 'VZ', 'ABT', 'KO', 'INTC', 'TMO', 'PEP', 'ACN', 'ABBV', 'NKE', 'DHR', 'LLY', \n",
    "              'WMT', 'AVGO', 'COST', 'T', 'MRK', 'WFC', 'CVX', 'MDT', 'MCD', 'TXN', 'QCOM', 'NEE', 'LIN', \n",
    "              'ORCL', 'HON', 'PM', 'MS', 'INTU', 'BMY', 'C', 'LOW', 'UNP', 'UPS', 'GS', 'SBUX', 'AMD', 'BLK',\n",
    "              'AMT', 'AMGN', 'RTX', 'NOW', 'IBM', 'ISRG', 'AMAT', 'TGT', 'BA', 'DE', 'CAT', 'GE', 'MRNA', 'CVS',\n",
    "              'MMM', 'CHTR', 'SCHW', 'AXP', 'SPGI', 'PLD', 'ZTS', 'BKNG', 'MO', 'ANTM', 'GILD', 'SYK', 'ADP',\n",
    "              'LMT', 'TJX', 'ADI', 'MDLZ', 'LRCX', 'CCI', 'CB', 'MU', 'PNC', 'DUK', 'TMUS', 'MMC', 'FIS', 'EL',\n",
    "              'USB', 'TFC', 'EQIX', 'COF', 'COP', 'CSX', 'BDX', 'EW', 'SHW', 'CI', 'CME', 'REGN', 'FISV', 'SO',\n",
    "              'ADSK', 'ICE', 'ITW', 'ETN', 'ILMN', 'HCA', 'CL', 'FDX', 'AON', 'BSX', 'ATVI', 'NSC', 'EMR', 'D',\n",
    "              'GM', 'MCO', 'WM', 'APD', 'NXPI', 'IDXX', 'PGR', 'ECL', 'NOC', 'JCI', 'CMG', 'A', 'FCX', 'DG', 'MSCI',\n",
    "              'HUM', 'KLAC', 'VRTX', 'TWTR', 'BIIB', 'ALGN', 'DXCM', 'F', 'TROW', 'ROP', 'SNPS', 'TEL', 'IQV',\n",
    "              'EBAY', 'PSA', 'GPN', 'LHX', 'EXC', 'TT', 'CARR', 'DOW', 'AIG', 'KMB', 'NEM', 'MET', 'DLR', 'APH',\n",
    "              'GD', 'CDNS', 'INFO', 'BK', 'AEP', 'SPG', 'MCHP', 'FTNT', 'RMD', 'ROST', 'PRU', 'SRE', 'EA', 'ORLY',\n",
    "              'MSI', 'APTV', 'SYY', 'ALL', 'TRV', 'CTSH', 'DD', 'EOG', 'SBAC', 'SLB', 'DFS', 'YUM', 'BAX', 'PH',\n",
    "              'XLNX', 'PPG', 'ROK', 'MPC', 'IFF', 'OTIS', 'XEL', 'PAYX', 'CNC', 'WELL', 'WBA', 'MTD', 'MNST', 'MAR',\n",
    "              'AFL', 'HPQ', 'STZ', 'GIS', 'NUE', 'CTAS', 'KR', 'FRC', 'PXD', 'HLT', 'CMI', 'AZO', 'ADM', 'WST',\n",
    "              'TDG', 'EFX', 'AWK', 'KEYS', 'VRSK', 'SIVB', 'CTVA', 'STT', 'CBRE', 'MCK', 'PEG', 'FAST', 'AVB',\n",
    "              'KMI', 'AMP', 'ANSS', 'BLL', 'DHI', 'ZBRA', 'AME', 'ZBH', 'ES', 'SWK', 'PSX', 'GLW', 'SWKS', 'CPRT',\n",
    "              'WMB', 'WEC', 'LH', 'LEN', 'AJG', 'LUV', 'EQR', 'WLTW', 'PCAR', 'ARE', 'CDW', 'ALB', 'ETSY', 'ODFL',\n",
    "              'GNRC', 'FITB', 'VLO', 'SYF', 'O', 'WY', 'IT', 'RSG', 'GRMN', 'HSY', 'BBY', 'ED', 'LYB', 'DAL',\n",
    "              'WAT', 'KSU', 'URI', 'VIAC', 'DOV', 'EXR', 'FTV', 'NTRS', 'VMC', 'XYL', 'VFC', 'HIG', 'PAYC', 'MLM',\n",
    "              'TRMB', 'IP', 'ENPH', 'OKE', 'KHC', 'DTE', 'TSN', 'CERN', 'HBAN', 'NDAQ', 'PPL', 'AEE', 'TSCO',\n",
    "              'CTLT', 'ETR', 'COO', 'CRL', 'MAA', 'FLT', 'EIX', 'OXY', 'VRSN', 'TDY', 'ESS', 'MKC', 'QRVO', 'ULTA',\n",
    "              'CZR', 'FE', 'EXPD', 'DLTR', 'MPWR', 'VTR', 'STE', 'CLX', 'PKI', 'CHD', 'EXPE', 'HOLX', 'KMX', 'ANET',\n",
    "              'TER', 'DPZ', 'HPE', 'DGX', 'BR', 'POOL', 'AMCR', 'NTAP', 'IR', 'TYL', 'KEY', 'DRI', 'RF', 'DRE',\n",
    "              'TECH', 'PEAK', 'WDC', 'CCL', 'GWW', 'HES', 'AVY', 'CFG', 'TTWO', 'CINF', 'CMS', 'AKAM', 'TFX', 'RCL',\n",
    "              'MKTX', 'ABC', 'MTB', 'BBWI', 'CE', 'HAL', 'NVR', 'VTRS', 'GPC', 'J', 'DVN', 'STX', 'MGM', 'BIO', 'RJF',\n",
    "              'IEX', 'PFG', 'BKR', 'TXT', 'ABMD', 'BXP', 'UDR', 'WAB', 'AES', 'K', 'CAG', 'OMC', 'EVRG', 'NLOK',\n",
    "              'MAS', 'EMN', 'CAH', 'LNT', 'UAL', 'JBHT', 'LKQ', 'LVS', 'CNP', 'IPG', 'PKG', 'PHM', 'INCY', 'PWR',\n",
    "              'FANG', 'WHR', 'PTC', 'IRM', 'WRK', 'SJM', 'CBOE', 'XRAY', 'FBHS', 'AAP', 'JKHY', 'KIM', 'LDOS',\n",
    "              'ALLE', 'BF.B', 'PNR', 'AAL', 'HRL', 'ATO', 'CTXS', 'HAS', 'L', 'LYV', 'HWM', 'LNC', 'FOXA', 'SNA',\n",
    "              'LUMN', 'FFIV', 'UHS', 'FMC', 'PENN', 'CHRW', 'RHI', 'HST', 'MHK', 'TPR', 'NRG', 'MOS', 'REG', 'DISH',\n",
    "              'WYNN', 'HSIC', 'RE', 'WRB', 'AIZ', 'CMA', 'BWA', 'AOS', 'CF', 'NWL', 'LW', 'IVZ', 'NI', 'JNPR', 'ZION',\n",
    "              'NCLH', 'DXC', 'SEE', 'MRO', 'DVA', 'GL', 'TAP', 'WU', 'BEN', 'NWSA', 'PNW', 'ROL', 'OGN', 'CPB',\n",
    "              'FRT', 'HII', 'DISCK', 'NLSN', 'PVH', 'APA', 'ALK', 'PBCT', 'VNO', 'HBI', 'LEG', 'COG', 'IPGP', \n",
    "              'RL', 'GPS', 'PRGO', 'UNM', 'FOX', 'NOV', 'DISCA', 'UAA', 'UA', 'NWS']"
   ]
  },
  {
   "cell_type": "markdown",
   "metadata": {},
   "source": [
    "#### Configure Time Window<a class=\"anchor\" id=\"DT\"></a>"
   ]
  },
  {
   "cell_type": "code",
   "execution_count": 50,
   "metadata": {},
   "outputs": [],
   "source": [
    "from datetime import datetime\n",
    "\n",
    "#download window of 5 years\n",
    "current_time = datetime.now()\n",
    "lookback_time = datetime(current_time.year - 5, current_time.month , current_time.day)"
   ]
  },
  {
   "cell_type": "markdown",
   "metadata": {},
   "source": [
    "#### Download Daily Stock Data <a class=\"anchor\" id=\"DSD\"></a>"
   ]
  },
  {
   "cell_type": "code",
   "execution_count": 24,
   "metadata": {},
   "outputs": [],
   "source": [
    "failed_list = []\n",
    "def download_daily_stock_data (stock_name, lookback_time, current_time):\n",
    "    try:\n",
    "        this_df = web.DataReader(stock_name, 'yahoo', start=lookback_time, end=current_time)\n",
    "        output_file_name = file_data_bronze + '/' + stock_name + '_'+ lookback_time.strftime(\"%m-%d-%Y\")+ '_'+ current_time.strftime(\"%m-%d-%Y\")+ '_data.csv'\n",
    "        this_df.to_csv(output_file_name)\n",
    "    except Exception as e:\n",
    "        failed_list.append(stock_name) "
   ]
  },
  {
   "cell_type": "code",
   "execution_count": 18,
   "metadata": {},
   "outputs": [],
   "source": [
    "for stock_name in s_n_p_list:\n",
    "    download_daily_stock_data(stock_name,lookback_time,current_time)"
   ]
  },
  {
   "cell_type": "code",
   "execution_count": 19,
   "metadata": {},
   "outputs": [
    {
     "data": {
      "text/plain": [
       "['BRK.B', 'BF.B']"
      ]
     },
     "execution_count": 19,
     "metadata": {},
     "output_type": "execute_result"
    }
   ],
   "source": [
    "failed_list"
   ]
  },
  {
   "cell_type": "markdown",
   "metadata": {},
   "source": [
    "#### Download Historical Stock Dividend Data <a class=\"anchor\" id=\"HD\"></a>"
   ]
  },
  {
   "cell_type": "code",
   "execution_count": 28,
   "metadata": {},
   "outputs": [],
   "source": [
    "failed_list_dividend = []\n",
    "def download_daily_stock_dividend (stock_name, lookback_time, current_time):\n",
    "    try:\n",
    "        this_df = web.DataReader(stock_name, 'yahoo-dividends', start=lookback_time, end=current_time)\n",
    "        output_file_name = dividend_data_bronze + '/' + stock_name + '_'+ lookback_time.strftime(\"%m-%d-%Y\")+ '_'+ current_time.strftime(\"%m-%d-%Y\")+ '_dividend.csv'\n",
    "        this_df.to_csv(output_file_name)\n",
    "    except Exception as e:\n",
    "        failed_list_dividend.append(stock_name) "
   ]
  },
  {
   "cell_type": "code",
   "execution_count": 29,
   "metadata": {},
   "outputs": [],
   "source": [
    "for stock_name in s_n_p_list:\n",
    "    download_daily_stock_dividend(stock_name,lookback_time,current_time)"
   ]
  },
  {
   "cell_type": "code",
   "execution_count": 30,
   "metadata": {},
   "outputs": [
    {
     "data": {
      "text/plain": [
       "['BRK.B', 'BF.B']"
      ]
     },
     "execution_count": 30,
     "metadata": {},
     "output_type": "execute_result"
    }
   ],
   "source": [
    "failed_list_dividend"
   ]
  },
  {
   "cell_type": "markdown",
   "metadata": {},
   "source": [
    "#### Download Historical Stock Split Data <a class=\"anchor\" id=\"SS\"></a>"
   ]
  },
  {
   "cell_type": "code",
   "execution_count": 31,
   "metadata": {},
   "outputs": [],
   "source": [
    "failed_list_split = []\n",
    "def download_daily_stock_split (stock_name, lookback_time, current_time):\n",
    "    try:\n",
    "        this_df = web.DataReader(stock_name, 'yahoo-actions', start=lookback_time, end=current_time)\n",
    "        output_file_name = split_data_bronze + '/' + stock_name + '_'+ lookback_time.strftime(\"%m-%d-%Y\")+ '_'+ current_time.strftime(\"%m-%d-%Y\")+ '_splits.csv'\n",
    "        this_df.to_csv(output_file_name)\n",
    "    except Exception as e:\n",
    "        failed_list_split.append(stock_name) "
   ]
  },
  {
   "cell_type": "code",
   "execution_count": 32,
   "metadata": {},
   "outputs": [],
   "source": [
    "for stock_name in s_n_p_list:\n",
    "    download_daily_stock_split(stock_name,lookback_time,current_time)"
   ]
  },
  {
   "cell_type": "code",
   "execution_count": 34,
   "metadata": {},
   "outputs": [
    {
     "data": {
      "text/plain": [
       "['BRK.B', 'BF.B']"
      ]
     },
     "execution_count": 34,
     "metadata": {},
     "output_type": "execute_result"
    }
   ],
   "source": [
    "failed_list_split"
   ]
  },
  {
   "cell_type": "markdown",
   "metadata": {},
   "source": [
    "#### Download Stock Sector Data <a class=\"anchor\" id=\"SSD\"></a>"
   ]
  },
  {
   "cell_type": "code",
   "execution_count": 43,
   "metadata": {},
   "outputs": [],
   "source": [
    "#pip install datapackage\n",
    "#Import the sector data\n",
    "import datapackage\n",
    "import pandas as pd\n",
    "\n",
    "data_url = 'https://datahub.io/core/s-and-p-500-companies/datapackage.json'\n",
    "\n",
    "# to load Data Package into storage\n",
    "package = datapackage.Package(data_url)\n",
    "\n",
    "# to load only tabular data\n",
    "resources = package.resources\n",
    "for resource in resources:\n",
    "    if resource.tabular:\n",
    "        sector_data = pd.read_csv(resource.descriptor['path'])\n",
    "        #print (data)\n",
    "output_file_name = sector_data_bronze + '/snp500_sector.csv'\n",
    "sector_data.to_csv(output_file_name)        "
   ]
  },
  {
   "cell_type": "code",
   "execution_count": 44,
   "metadata": {},
   "outputs": [
    {
     "data": {
      "text/html": [
       "<div>\n",
       "<style scoped>\n",
       "    .dataframe tbody tr th:only-of-type {\n",
       "        vertical-align: middle;\n",
       "    }\n",
       "\n",
       "    .dataframe tbody tr th {\n",
       "        vertical-align: top;\n",
       "    }\n",
       "\n",
       "    .dataframe thead th {\n",
       "        text-align: right;\n",
       "    }\n",
       "</style>\n",
       "<table border=\"1\" class=\"dataframe\">\n",
       "  <thead>\n",
       "    <tr style=\"text-align: right;\">\n",
       "      <th></th>\n",
       "      <th>Symbol</th>\n",
       "      <th>Name</th>\n",
       "      <th>Sector</th>\n",
       "    </tr>\n",
       "  </thead>\n",
       "  <tbody>\n",
       "    <tr>\n",
       "      <th>0</th>\n",
       "      <td>MMM</td>\n",
       "      <td>3M</td>\n",
       "      <td>Industrials</td>\n",
       "    </tr>\n",
       "    <tr>\n",
       "      <th>1</th>\n",
       "      <td>AOS</td>\n",
       "      <td>A. O. Smith</td>\n",
       "      <td>Industrials</td>\n",
       "    </tr>\n",
       "    <tr>\n",
       "      <th>2</th>\n",
       "      <td>ABT</td>\n",
       "      <td>Abbott Laboratories</td>\n",
       "      <td>Health Care</td>\n",
       "    </tr>\n",
       "    <tr>\n",
       "      <th>3</th>\n",
       "      <td>ABBV</td>\n",
       "      <td>AbbVie</td>\n",
       "      <td>Health Care</td>\n",
       "    </tr>\n",
       "    <tr>\n",
       "      <th>4</th>\n",
       "      <td>ABMD</td>\n",
       "      <td>Abiomed</td>\n",
       "      <td>Health Care</td>\n",
       "    </tr>\n",
       "  </tbody>\n",
       "</table>\n",
       "</div>"
      ],
      "text/plain": [
       "  Symbol                 Name       Sector\n",
       "0    MMM                   3M  Industrials\n",
       "1    AOS          A. O. Smith  Industrials\n",
       "2    ABT  Abbott Laboratories  Health Care\n",
       "3   ABBV               AbbVie  Health Care\n",
       "4   ABMD              Abiomed  Health Care"
      ]
     },
     "execution_count": 44,
     "metadata": {},
     "output_type": "execute_result"
    }
   ],
   "source": [
    "data.head()"
   ]
  },
  {
   "cell_type": "markdown",
   "metadata": {},
   "source": [
    "#### Download Stock Financial Data <a class=\"anchor\" id=\"SFD\"></a>"
   ]
  },
  {
   "cell_type": "code",
   "execution_count": 47,
   "metadata": {},
   "outputs": [],
   "source": [
    "#Import the financial data\n",
    "data_url = 'https://datahub.io/core/s-and-p-500-companies-financials/datapackage.json'\n",
    "\n",
    "# to load Data Package into storage\n",
    "package = datapackage.Package(data_url)\n",
    "\n",
    "# to load only tabular data\n",
    "resources = package.resources\n",
    "for resource in resources:\n",
    "    if resource.tabular:\n",
    "        financial_data = pd.read_csv(resource.descriptor['path'])\n",
    "        #print (data)\n",
    "output_file_name = financial_data_bronze + '/snp500_financial.csv'\n",
    "financial_data.to_csv(output_file_name)  "
   ]
  },
  {
   "cell_type": "code",
   "execution_count": 46,
   "metadata": {},
   "outputs": [
    {
     "data": {
      "text/html": [
       "<div>\n",
       "<style scoped>\n",
       "    .dataframe tbody tr th:only-of-type {\n",
       "        vertical-align: middle;\n",
       "    }\n",
       "\n",
       "    .dataframe tbody tr th {\n",
       "        vertical-align: top;\n",
       "    }\n",
       "\n",
       "    .dataframe thead th {\n",
       "        text-align: right;\n",
       "    }\n",
       "</style>\n",
       "<table border=\"1\" class=\"dataframe\">\n",
       "  <thead>\n",
       "    <tr style=\"text-align: right;\">\n",
       "      <th></th>\n",
       "      <th>Symbol</th>\n",
       "      <th>Name</th>\n",
       "      <th>Sector</th>\n",
       "      <th>Price</th>\n",
       "      <th>Price/Earnings</th>\n",
       "      <th>Dividend Yield</th>\n",
       "      <th>Earnings/Share</th>\n",
       "      <th>52 Week Low</th>\n",
       "      <th>52 Week High</th>\n",
       "      <th>Market Cap</th>\n",
       "      <th>EBITDA</th>\n",
       "      <th>Price/Sales</th>\n",
       "      <th>Price/Book</th>\n",
       "      <th>SEC Filings</th>\n",
       "    </tr>\n",
       "  </thead>\n",
       "  <tbody>\n",
       "    <tr>\n",
       "      <th>0</th>\n",
       "      <td>MMM</td>\n",
       "      <td>3M Company</td>\n",
       "      <td>Industrials</td>\n",
       "      <td>222.89</td>\n",
       "      <td>24.31</td>\n",
       "      <td>2.332862</td>\n",
       "      <td>7.92</td>\n",
       "      <td>259.77</td>\n",
       "      <td>175.490</td>\n",
       "      <td>138721055226</td>\n",
       "      <td>9.048000e+09</td>\n",
       "      <td>4.390271</td>\n",
       "      <td>11.34</td>\n",
       "      <td>http://www.sec.gov/cgi-bin/browse-edgar?action...</td>\n",
       "    </tr>\n",
       "    <tr>\n",
       "      <th>1</th>\n",
       "      <td>AOS</td>\n",
       "      <td>A.O. Smith Corp</td>\n",
       "      <td>Industrials</td>\n",
       "      <td>60.24</td>\n",
       "      <td>27.76</td>\n",
       "      <td>1.147959</td>\n",
       "      <td>1.70</td>\n",
       "      <td>68.39</td>\n",
       "      <td>48.925</td>\n",
       "      <td>10783419933</td>\n",
       "      <td>6.010000e+08</td>\n",
       "      <td>3.575483</td>\n",
       "      <td>6.35</td>\n",
       "      <td>http://www.sec.gov/cgi-bin/browse-edgar?action...</td>\n",
       "    </tr>\n",
       "    <tr>\n",
       "      <th>2</th>\n",
       "      <td>ABT</td>\n",
       "      <td>Abbott Laboratories</td>\n",
       "      <td>Health Care</td>\n",
       "      <td>56.27</td>\n",
       "      <td>22.51</td>\n",
       "      <td>1.908982</td>\n",
       "      <td>0.26</td>\n",
       "      <td>64.60</td>\n",
       "      <td>42.280</td>\n",
       "      <td>102121042306</td>\n",
       "      <td>5.744000e+09</td>\n",
       "      <td>3.740480</td>\n",
       "      <td>3.19</td>\n",
       "      <td>http://www.sec.gov/cgi-bin/browse-edgar?action...</td>\n",
       "    </tr>\n",
       "    <tr>\n",
       "      <th>3</th>\n",
       "      <td>ABBV</td>\n",
       "      <td>AbbVie Inc.</td>\n",
       "      <td>Health Care</td>\n",
       "      <td>108.48</td>\n",
       "      <td>19.41</td>\n",
       "      <td>2.499560</td>\n",
       "      <td>3.29</td>\n",
       "      <td>125.86</td>\n",
       "      <td>60.050</td>\n",
       "      <td>181386347059</td>\n",
       "      <td>1.031000e+10</td>\n",
       "      <td>6.291571</td>\n",
       "      <td>26.14</td>\n",
       "      <td>http://www.sec.gov/cgi-bin/browse-edgar?action...</td>\n",
       "    </tr>\n",
       "    <tr>\n",
       "      <th>4</th>\n",
       "      <td>ACN</td>\n",
       "      <td>Accenture plc</td>\n",
       "      <td>Information Technology</td>\n",
       "      <td>150.51</td>\n",
       "      <td>25.47</td>\n",
       "      <td>1.714470</td>\n",
       "      <td>5.44</td>\n",
       "      <td>162.60</td>\n",
       "      <td>114.820</td>\n",
       "      <td>98765855553</td>\n",
       "      <td>5.643228e+09</td>\n",
       "      <td>2.604117</td>\n",
       "      <td>10.62</td>\n",
       "      <td>http://www.sec.gov/cgi-bin/browse-edgar?action...</td>\n",
       "    </tr>\n",
       "  </tbody>\n",
       "</table>\n",
       "</div>"
      ],
      "text/plain": [
       "  Symbol                 Name                  Sector   Price  Price/Earnings  \\\n",
       "0    MMM           3M Company             Industrials  222.89           24.31   \n",
       "1    AOS      A.O. Smith Corp             Industrials   60.24           27.76   \n",
       "2    ABT  Abbott Laboratories             Health Care   56.27           22.51   \n",
       "3   ABBV          AbbVie Inc.             Health Care  108.48           19.41   \n",
       "4    ACN        Accenture plc  Information Technology  150.51           25.47   \n",
       "\n",
       "   Dividend Yield  Earnings/Share  52 Week Low  52 Week High    Market Cap  \\\n",
       "0        2.332862            7.92       259.77       175.490  138721055226   \n",
       "1        1.147959            1.70        68.39        48.925   10783419933   \n",
       "2        1.908982            0.26        64.60        42.280  102121042306   \n",
       "3        2.499560            3.29       125.86        60.050  181386347059   \n",
       "4        1.714470            5.44       162.60       114.820   98765855553   \n",
       "\n",
       "         EBITDA  Price/Sales  Price/Book  \\\n",
       "0  9.048000e+09     4.390271       11.34   \n",
       "1  6.010000e+08     3.575483        6.35   \n",
       "2  5.744000e+09     3.740480        3.19   \n",
       "3  1.031000e+10     6.291571       26.14   \n",
       "4  5.643228e+09     2.604117       10.62   \n",
       "\n",
       "                                         SEC Filings  \n",
       "0  http://www.sec.gov/cgi-bin/browse-edgar?action...  \n",
       "1  http://www.sec.gov/cgi-bin/browse-edgar?action...  \n",
       "2  http://www.sec.gov/cgi-bin/browse-edgar?action...  \n",
       "3  http://www.sec.gov/cgi-bin/browse-edgar?action...  \n",
       "4  http://www.sec.gov/cgi-bin/browse-edgar?action...  "
      ]
     },
     "execution_count": 46,
     "metadata": {},
     "output_type": "execute_result"
    }
   ],
   "source": [
    "data.head()"
   ]
  },
  {
   "cell_type": "code",
   "execution_count": null,
   "metadata": {},
   "outputs": [],
   "source": []
  }
 ],
 "metadata": {
  "kernel_info": {
   "name": "python3-azureml"
  },
  "kernelspec": {
   "display_name": "Python 3.6 - AzureML",
   "language": "python",
   "name": "python3-azureml"
  },
  "language_info": {
   "codemirror_mode": {
    "name": "ipython",
    "version": 3
   },
   "file_extension": ".py",
   "mimetype": "text/x-python",
   "name": "python",
   "nbconvert_exporter": "python",
   "pygments_lexer": "ipython3",
   "version": "3.6.9"
  },
  "nteract": {
   "version": "nteract-front-end@1.0.0"
  }
 },
 "nbformat": 4,
 "nbformat_minor": 2
}
